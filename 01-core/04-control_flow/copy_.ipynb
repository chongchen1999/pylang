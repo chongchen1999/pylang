{
 "cells": [
  {
   "cell_type": "code",
   "execution_count": 6,
   "id": "9d4c6a69",
   "metadata": {},
   "outputs": [
    {
     "name": "stdout",
     "output_type": "stream",
     "text": [
      "address of a:  130346229797504\n",
      "address of b:  130346229797504\n",
      "True\n",
      "True\n",
      "address of c:  130346229724480\n",
      "True\n",
      "False\n"
     ]
    }
   ],
   "source": [
    "a = [1, 2, 3]\n",
    "b = a\n",
    "c = a.copy()\n",
    "\n",
    "print(\"address of a: \", id(a))\n",
    "print(\"address of b: \", id(b))\n",
    "print(a == b)\n",
    "print(a is b)\n",
    "\n",
    "print(\"address of c: \", id(c))\n",
    "print(a == c)\n",
    "print(a is c)"
   ]
  }
 ],
 "metadata": {
  "kernelspec": {
   "display_name": "py12",
   "language": "python",
   "name": "python3"
  },
  "language_info": {
   "codemirror_mode": {
    "name": "ipython",
    "version": 3
   },
   "file_extension": ".py",
   "mimetype": "text/x-python",
   "name": "python",
   "nbconvert_exporter": "python",
   "pygments_lexer": "ipython3",
   "version": "3.12.9"
  }
 },
 "nbformat": 4,
 "nbformat_minor": 5
}
