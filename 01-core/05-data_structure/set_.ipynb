{
 "cells": [
  {
   "cell_type": "code",
   "execution_count": 3,
   "id": "556e3bfb",
   "metadata": {},
   "outputs": [],
   "source": [
    "# 使用花括号\n",
    "s1 = {1, 2, 3}\n",
    "\n",
    "# 使用 set() 函数\n",
    "s2 = set([1, 2, 3, 2])  # 自动去重 {1, 2, 3}\n",
    "\n",
    "# 空集合必须用 set() 创建\n",
    "empty_set = set()  # 正确\n",
    "not_empty_set = {}  # 这是创建空字典，不是集合"
   ]
  },
  {
   "cell_type": "code",
   "execution_count": 5,
   "id": "44f5e0bb",
   "metadata": {},
   "outputs": [
    {
     "data": {
      "text/plain": [
       "{1, 2, 3, 4, 5}"
      ]
     },
     "execution_count": 5,
     "metadata": {},
     "output_type": "execute_result"
    }
   ],
   "source": [
    "s = {1, 2}\n",
    "s.add(3)       # {1, 2, 3}\n",
    "s.update([4,5]) # {1, 2, 3, 4, 5}\n",
    "s"
   ]
  },
  {
   "cell_type": "code",
   "execution_count": 6,
   "id": "4b6d3a5d",
   "metadata": {},
   "outputs": [
    {
     "data": {
      "text/plain": [
       "{1, 2, 4, 5}"
      ]
     },
     "execution_count": 6,
     "metadata": {},
     "output_type": "execute_result"
    }
   ],
   "source": [
    "a = {1, 2, 3}\n",
    "b = {3, 4, 5}\n",
    "\n",
    "# 并集\n",
    "a | b  # {1, 2, 3, 4, 5}\n",
    "a.union(b)\n",
    "\n",
    "# 交集\n",
    "a & b  # {3}\n",
    "a.intersection(b)\n",
    "\n",
    "# 差集\n",
    "a - b  # {1, 2}\n",
    "a.difference(b)\n",
    "\n",
    "# 对称差集（仅在其中一个集合中出现的元素）\n",
    "a ^ b  # {1, 2, 4, 5}\n",
    "a.symmetric_difference(b)"
   ]
  },
  {
   "cell_type": "code",
   "execution_count": null,
   "id": "1c5b7a6c",
   "metadata": {},
   "outputs": [],
   "source": [
    "s = {1, 2, 3}\n",
    "len(s)        # 3\n",
    "2 in s        # True\n",
    "5 not in s    # True"
   ]
  }
 ],
 "metadata": {
  "kernelspec": {
   "display_name": "py12",
   "language": "python",
   "name": "python3"
  },
  "language_info": {
   "codemirror_mode": {
    "name": "ipython",
    "version": 3
   },
   "file_extension": ".py",
   "mimetype": "text/x-python",
   "name": "python",
   "nbconvert_exporter": "python",
   "pygments_lexer": "ipython3",
   "version": "3.12.9"
  }
 },
 "nbformat": 4,
 "nbformat_minor": 5
}
