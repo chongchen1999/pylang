{
 "cells": [
  {
   "cell_type": "code",
   "execution_count": 3,
   "id": "83a83c33",
   "metadata": {},
   "outputs": [],
   "source": [
    "# 写入文件（覆盖模式 'w'）\n",
    "with open('example.txt', 'w', encoding='utf-8') as f:\n",
    "    f.write('第一行\\n')\n",
    "    f.write('第二行\\n')\n",
    "    # 写入非字符串需转换\n",
    "    num = 42\n",
    "    f.write(str(num) + '\\n')"
   ]
  },
  {
   "cell_type": "code",
   "execution_count": 4,
   "id": "c9c495a4",
   "metadata": {},
   "outputs": [
    {
     "name": "stdout",
     "output_type": "stream",
     "text": [
      "第一行\n",
      "第二行\n",
      "42\n",
      "\n",
      "第一行\n",
      "第二行\n",
      "42\n"
     ]
    }
   ],
   "source": [
    "# 读取整个文件\n",
    "with open('example.txt', 'r', encoding='utf-8') as f:\n",
    "    content = f.read()\n",
    "print(content)\n",
    "\n",
    "# 逐行读取（推荐大文件）\n",
    "with open('example.txt', 'r', encoding='utf-8') as f:\n",
    "    for line in f:\n",
    "        print(line.strip())  # strip() 去除换行符"
   ]
  },
  {
   "cell_type": "code",
   "execution_count": 5,
   "id": "896d3e27",
   "metadata": {},
   "outputs": [],
   "source": [
    "# 追加模式 'a'\n",
    "with open('example.txt', 'a', encoding='utf-8') as f:\n",
    "    f.write('这是追加的内容\\n')"
   ]
  },
  {
   "cell_type": "code",
   "execution_count": 6,
   "id": "fdf9ae57",
   "metadata": {},
   "outputs": [],
   "source": [
    "import json\n",
    "\n",
    "data = {\n",
    "    \"name\": \"Alice\",\n",
    "    \"age\": 30,\n",
    "    \"skills\": [\"Python\", \"JSON\"],\n",
    "    \"is_active\": True\n",
    "}\n",
    "\n",
    "# 写入 JSON 文件\n",
    "with open('data.json', 'w', encoding='utf-8') as f:\n",
    "    json.dump(data, f, indent=4)  # indent 美化格式"
   ]
  },
  {
   "cell_type": "code",
   "execution_count": 7,
   "id": "906fee4e",
   "metadata": {},
   "outputs": [
    {
     "name": "stdout",
     "output_type": "stream",
     "text": [
      "Alice\n",
      "['Python', 'JSON']\n"
     ]
    }
   ],
   "source": [
    "with open('data.json', 'r', encoding='utf-8') as f:\n",
    "    loaded_data = json.load(f)\n",
    "\n",
    "print(loaded_data['name'])  # 输出: Alice\n",
    "print(loaded_data['skills'])  # 输出: ['Python', 'JSON']"
   ]
  },
  {
   "cell_type": "code",
   "execution_count": 8,
   "id": "4a1fa64b",
   "metadata": {},
   "outputs": [
    {
     "name": "stdout",
     "output_type": "stream",
     "text": [
      "{\"name\": \"Alice\", \"age\": 30, \"skills\": [\"Python\", \"JSON\"], \"is_active\": true}\n",
      "value\n"
     ]
    }
   ],
   "source": [
    "# Python 对象 → JSON 字符串\n",
    "json_str = json.dumps(data, ensure_ascii=False)  # 支持非ASCII字符\n",
    "print(json_str)  # 输出: {\"name\": \"Alice\", \"age\": 30, ...}\n",
    "\n",
    "# JSON 字符串 → Python 对象\n",
    "new_data = json.loads('{\"key\": \"value\"}')\n",
    "print(new_data['key'])  # 输出: value"
   ]
  },
  {
   "cell_type": "code",
   "execution_count": 9,
   "id": "abc7a4b7",
   "metadata": {},
   "outputs": [
    {
     "name": "stdout",
     "output_type": "stream",
     "text": [
      "第一行\n",
      "第二行\n",
      "42\n",
      "这是追加的内容\n",
      "\n",
      "新增内容\n"
     ]
    }
   ],
   "source": [
    "with open('example.txt', 'r+', encoding='utf-8') as f:\n",
    "    f.seek(0, 2)  # 移动到文件末尾\n",
    "    f.write('\\n新增内容')  # 在末尾追加\n",
    "\n",
    "    f.seek(0)  # 回到文件开头\n",
    "    print(f.read())  # 读取全部内容"
   ]
  }
 ],
 "metadata": {
  "kernelspec": {
   "display_name": "py12",
   "language": "python",
   "name": "python3"
  },
  "language_info": {
   "codemirror_mode": {
    "name": "ipython",
    "version": 3
   },
   "file_extension": ".py",
   "mimetype": "text/x-python",
   "name": "python",
   "nbconvert_exporter": "python",
   "pygments_lexer": "ipython3",
   "version": "3.12.9"
  }
 },
 "nbformat": 4,
 "nbformat_minor": 5
}
