{
 "cells": [
  {
   "cell_type": "code",
   "execution_count": 3,
   "id": "43f75936",
   "metadata": {},
   "outputs": [
    {
     "name": "stdout",
     "output_type": "stream",
     "text": [
      "Hello, Alice!\n",
      "Pi: 3.141592653589793115997963468544\n"
     ]
    }
   ],
   "source": [
    "import math \n",
    "\n",
    "name = \"Alice\"\n",
    "print(f\"Hello, {name}!\")  # 输出: Hello, Alice!\n",
    "print(f\"Pi: {math.pi:.30f}\")  # 输出: Pi: 3.142"
   ]
  },
  {
   "cell_type": "code",
   "execution_count": 4,
   "id": "7fc905ce",
   "metadata": {},
   "outputs": [
    {
     "name": "stdout",
     "output_type": "stream",
     "text": [
      "Hello Bob\n",
      "b a\n",
      "Alice: 25\n"
     ]
    }
   ],
   "source": [
    "print(\"{} {}\".format(\"Hello\", \"Bob\"))  # 输出: Hello Bob\n",
    "print(\"{1} {0}\".format(\"a\", \"b\"))     # 输出: b a\n",
    "print(\"{name}: {age}\".format(name=\"Alice\", age=25))"
   ]
  },
  {
   "cell_type": "code",
   "execution_count": 5,
   "id": "e09bd495",
   "metadata": {},
   "outputs": [
    {
     "name": "stdout",
     "output_type": "stream",
     "text": [
      "   42\n",
      "-003.14\n"
     ]
    }
   ],
   "source": [
    "print(\"42\".rjust(5))      # 输出: \"   42\"\n",
    "print(\"-3.14\".zfill(7))   # 输出: \"-003.14\""
   ]
  },
  {
   "cell_type": "code",
   "execution_count": 6,
   "id": "1e320205",
   "metadata": {},
   "outputs": [
    {
     "name": "stdout",
     "output_type": "stream",
     "text": [
      "Hello, world!\n",
      "0.14285714285714285\n"
     ]
    }
   ],
   "source": [
    "s = \"Hello, world!\"\n",
    "print(str(s))  # 输出: Hello, world!\n",
    "\n",
    "num = 1/7\n",
    "print(str(num))  # 输出: 0.14285714285714285"
   ]
  },
  {
   "cell_type": "code",
   "execution_count": 7,
   "id": "6d019c87",
   "metadata": {},
   "outputs": [
    {
     "name": "stdout",
     "output_type": "stream",
     "text": [
      "'Hello, world!'\n",
      "0.14285714285714285\n",
      "[1, 2, 3]\n"
     ]
    }
   ],
   "source": [
    "s = \"Hello, world!\"\n",
    "print(repr(s))  # 输出: 'Hello, world!' （带引号）\n",
    "\n",
    "num = 1/7\n",
    "print(repr(num))  # 输出: 0.14285714285714285 （与 str 相同，但浮点数可能更精确）\n",
    "\n",
    "lst = [1, 2, 3]\n",
    "print(repr(lst))  # 输出: [1, 2, 3] （可直接用 eval 还原）"
   ]
  },
  {
   "cell_type": "code",
   "execution_count": 8,
   "id": "a2e7102a",
   "metadata": {},
   "outputs": [
    {
     "name": "stdout",
     "output_type": "stream",
     "text": [
      "Person(name=Alice, age=25)\n",
      "Person('Alice', 25)\n"
     ]
    }
   ],
   "source": [
    "class Person:\n",
    "    def __init__(self, name, age):\n",
    "        self.name = name\n",
    "        self.age = age\n",
    "\n",
    "    def __str__(self):\n",
    "        return f\"Person(name={self.name}, age={self.age})\"\n",
    "\n",
    "    def __repr__(self):\n",
    "        return f\"Person('{self.name}', {self.age})\"\n",
    "\n",
    "p = Person(\"Alice\", 25)\n",
    "\n",
    "print(str(p))   # 输出: Person(name=Alice, age=25) （友好格式）\n",
    "print(repr(p))  # 输出: Person('Alice', 25) （可 eval 还原）"
   ]
  }
 ],
 "metadata": {
  "kernelspec": {
   "display_name": "py12",
   "language": "python",
   "name": "python3"
  },
  "language_info": {
   "codemirror_mode": {
    "name": "ipython",
    "version": 3
   },
   "file_extension": ".py",
   "mimetype": "text/x-python",
   "name": "python",
   "nbconvert_exporter": "python",
   "pygments_lexer": "ipython3",
   "version": "3.12.9"
  }
 },
 "nbformat": 4,
 "nbformat_minor": 5
}
