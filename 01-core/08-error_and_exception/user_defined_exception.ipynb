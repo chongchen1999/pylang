{
 "cells": [
  {
   "cell_type": "code",
   "execution_count": 1,
   "id": "c9e37eea",
   "metadata": {},
   "outputs": [
    {
     "name": "stdout",
     "output_type": "stream",
     "text": [
      "捕获到异常：年龄不能为负数！\n"
     ]
    }
   ],
   "source": [
    "class InvalidAgeError(Exception):\n",
    "    \"\"\"年龄无效异常\"\"\"\n",
    "    pass\n",
    "\n",
    "def check_age(age):\n",
    "    if age < 0:\n",
    "        raise InvalidAgeError(\"年龄不能为负数！\")\n",
    "    elif age < 18:\n",
    "        raise InvalidAgeError(\"未满18岁，禁止访问！\")\n",
    "    else:\n",
    "        print(\"年龄合法，允许访问。\")\n",
    "\n",
    "try:\n",
    "    check_age(-5)  # 触发 InvalidAgeError\n",
    "except InvalidAgeError as e:\n",
    "    print(f\"捕获到异常：{e}\")"
   ]
  },
  {
   "cell_type": "code",
   "execution_count": 2,
   "id": "046f2221",
   "metadata": {},
   "outputs": [
    {
     "name": "stdout",
     "output_type": "stream",
     "text": [
      "错误信息：连接超时, 状态码：500\n"
     ]
    }
   ],
   "source": [
    "class NetworkError(Exception):\n",
    "    \"\"\"网络异常\"\"\"\n",
    "    def __init__(self, message, status_code):\n",
    "        super().__init__(message)\n",
    "        self.status_code = status_code  # 额外存储状态码\n",
    "\n",
    "def fetch_data():\n",
    "    raise NetworkError(\"连接超时\", 500)  # 模拟网络错误\n",
    "\n",
    "try:\n",
    "    fetch_data()\n",
    "except NetworkError as e:\n",
    "    print(f\"错误信息：{e}, 状态码：{e.status_code}\")"
   ]
  }
 ],
 "metadata": {
  "kernelspec": {
   "display_name": "py12",
   "language": "python",
   "name": "python3"
  },
  "language_info": {
   "codemirror_mode": {
    "name": "ipython",
    "version": 3
   },
   "file_extension": ".py",
   "mimetype": "text/x-python",
   "name": "python",
   "nbconvert_exporter": "python",
   "pygments_lexer": "ipython3",
   "version": "3.12.9"
  }
 },
 "nbformat": 4,
 "nbformat_minor": 5
}
