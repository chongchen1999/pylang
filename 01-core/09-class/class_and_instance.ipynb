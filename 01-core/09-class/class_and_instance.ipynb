{
 "cells": [
  {
   "cell_type": "code",
   "execution_count": 8,
   "id": "882d0d5e",
   "metadata": {},
   "outputs": [
    {
     "name": "stdout",
     "output_type": "stream",
     "text": [
      "140562666079856\n",
      "140562666078928\n",
      "140562666078928\n",
      "140562666079664\n",
      "140562666079344\n",
      "140562666079664\n",
      "140562665745408\n",
      "140562666005504\n",
      "140562666001728\n",
      "140562666005376\n"
     ]
    }
   ],
   "source": [
    "class MyClass:\n",
    "    \"\"\"一个简单的示例类\"\"\"\n",
    "    i = 12345\n",
    "    j = 67890\n",
    "\n",
    "    def f(self):\n",
    "        return 'hello world'\n",
    "    \n",
    "x = MyClass()\n",
    "y = MyClass()\n",
    "\n",
    "z = x.f\n",
    "\n",
    "MyClass.i = 54321\n",
    "x.i = 67890\n",
    "y.j = 98765\n",
    "\n",
    "\n",
    "print(id(x.i))\n",
    "print(id(y.i))\n",
    "print(id(MyClass.i))\n",
    "\n",
    "print(id(x.j))\n",
    "print(id(y.j))\n",
    "print(id(MyClass.j))\n",
    "\n",
    "print(id(MyClass.f))\n",
    "print(id(x.f))\n",
    "print(id(y.f))\n",
    "print(id(z))"
   ]
  },
  {
   "cell_type": "code",
   "execution_count": 12,
   "id": "5cfff53c",
   "metadata": {},
   "outputs": [
    {
     "name": "stdout",
     "output_type": "stream",
     "text": [
      "[1, 2, 3, 4, 5]\n",
      "[1, 2, 3, 4, 5]\n"
     ]
    }
   ],
   "source": [
    "class MyClass:\n",
    "    a = [1, 2, 3]\n",
    "\n",
    "x = MyClass()\n",
    "y = MyClass()\n",
    "\n",
    "x.a.append(4)\n",
    "y.a.append(5)\n",
    "\n",
    "print(x.a)\n",
    "print(y.a)"
   ]
  },
  {
   "cell_type": "code",
   "execution_count": 13,
   "id": "936a2037",
   "metadata": {},
   "outputs": [
    {
     "name": "stdout",
     "output_type": "stream",
     "text": [
      "140562666357920\n",
      "140562666357920\n",
      "140562666357920\n"
     ]
    }
   ],
   "source": [
    "def f():\n",
    "    pass\n",
    "\n",
    "x = f\n",
    "y = f\n",
    "\n",
    "print(id(x))\n",
    "print(id(y))\n",
    "print(id(f))"
   ]
  },
  {
   "cell_type": "code",
   "execution_count": null,
   "id": "ab9ce994",
   "metadata": {},
   "outputs": [],
   "source": []
  }
 ],
 "metadata": {
  "kernelspec": {
   "display_name": "py12",
   "language": "python",
   "name": "python3"
  },
  "language_info": {
   "codemirror_mode": {
    "name": "ipython",
    "version": 3
   },
   "file_extension": ".py",
   "mimetype": "text/x-python",
   "name": "python",
   "nbconvert_exporter": "python",
   "pygments_lexer": "ipython3",
   "version": "3.12.9"
  }
 },
 "nbformat": 4,
 "nbformat_minor": 5
}
