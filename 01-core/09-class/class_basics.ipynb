{
 "cells": [
  {
   "cell_type": "code",
   "execution_count": 1,
   "id": "2d582e59",
   "metadata": {},
   "outputs": [
    {
     "name": "stdout",
     "output_type": "stream",
     "text": [
      "Vector(6, 8)\n",
      "True\n"
     ]
    }
   ],
   "source": [
    "class Vector:\n",
    "    def __init__(self, x, y):\n",
    "        self.x = x\n",
    "        self.y = y\n",
    "    \n",
    "    # 重载加法运算符\n",
    "    def __add__(self, other):\n",
    "        return Vector(self.x + other.x, self.y + other.y)\n",
    "    \n",
    "    # 重载字符串表示\n",
    "    def __str__(self):\n",
    "        return f\"Vector({self.x}, {self.y})\"\n",
    "    \n",
    "    # 重载相等运算符\n",
    "    def __eq__(self, other):\n",
    "        return self.x == other.x and self.y == other.y\n",
    "\n",
    "v1 = Vector(2, 3)\n",
    "v2 = Vector(4, 5)\n",
    "v3 = v1 + v2  # 使用重载的加法运算符\n",
    "print(v3)     # 输出: Vector(6, 8)\n",
    "print(v1 == Vector(2, 3))  # 输出: True"
   ]
  },
  {
   "cell_type": "code",
   "execution_count": 2,
   "id": "66c712c1",
   "metadata": {},
   "outputs": [
    {
     "name": "stdout",
     "output_type": "stream",
     "text": [
      "public\n",
      "protected\n",
      "private\n",
      "private\n"
     ]
    }
   ],
   "source": [
    "class MyClass:\n",
    "    def __init__(self):\n",
    "        self.public = \"public\"\n",
    "        self._protected = \"protected\"  # 约定俗成的保护成员\n",
    "        self.__private = \"private\"     # 名称改写\n",
    "    \n",
    "    def get_private(self):\n",
    "        return self.__private\n",
    "\n",
    "obj = MyClass()\n",
    "print(obj.public)        # 输出: public\n",
    "print(obj._protected)    # 输出: protected (但不推荐直接访问)\n",
    "# print(obj.__private)   # 报错: AttributeError\n",
    "print(obj._MyClass__private)  # 输出: private (通过改写后的名称访问)\n",
    "print(obj.get_private())      # 输出: private (推荐方式)"
   ]
  },
  {
   "cell_type": "code",
   "execution_count": 3,
   "id": "0360cce8",
   "metadata": {},
   "outputs": [
    {
     "name": "stdout",
     "output_type": "stream",
     "text": [
      "Alice\n",
      "Hello, I'm Alice\n"
     ]
    }
   ],
   "source": [
    "class Person:\n",
    "    pass\n",
    "\n",
    "# 动态添加属性\n",
    "p = Person()\n",
    "p.name = \"Alice\"\n",
    "print(p.name)  # 输出: Alice\n",
    "\n",
    "# 动态添加方法\n",
    "def say_hello(self):\n",
    "    return f\"Hello, I'm {self.name}\"\n",
    "\n",
    "Person.greet = say_hello\n",
    "print(p.greet())  # 输出: Hello, I'm Alice\n",
    "\n",
    "# 动态修改类\n",
    "class NewPerson:\n",
    "    pass\n",
    "\n",
    "Person = NewPerson  # 替换类定义\n",
    "new_p = Person()\n",
    "# new_p.greet()  # 这会报错，因为NewPerson没有greet方法"
   ]
  }
 ],
 "metadata": {
  "kernelspec": {
   "display_name": "py12",
   "language": "python",
   "name": "python3"
  },
  "language_info": {
   "codemirror_mode": {
    "name": "ipython",
    "version": 3
   },
   "file_extension": ".py",
   "mimetype": "text/x-python",
   "name": "python",
   "nbconvert_exporter": "python",
   "pygments_lexer": "ipython3",
   "version": "3.12.9"
  }
 },
 "nbformat": 4,
 "nbformat_minor": 5
}
