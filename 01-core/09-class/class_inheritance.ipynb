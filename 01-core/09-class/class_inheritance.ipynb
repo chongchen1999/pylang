{
 "cells": [
  {
   "cell_type": "code",
   "execution_count": 2,
   "id": "e1f1b84d",
   "metadata": {},
   "outputs": [
    {
     "name": "stdout",
     "output_type": "stream",
     "text": [
      "Some sound\n",
      "Woof!\n",
      "Buddy is fetching!\n",
      "True\n",
      "True\n"
     ]
    }
   ],
   "source": [
    "class Animal:\n",
    "    def __init__(self, name):\n",
    "        self.name = name\n",
    "    \n",
    "    def speak(self):\n",
    "        return \"Some sound\"\n",
    "\n",
    "class Dog(Animal):  # Dog 继承自 Animal\n",
    "    def speak(self):  # 重写父类方法\n",
    "        return \"Woof!\"\n",
    "    \n",
    "    def fetch(self):  # 子类特有方法\n",
    "        return f\"{self.name} is fetching!\"\n",
    "\n",
    "# 使用示例\n",
    "animal = Animal(\"Generic\")\n",
    "print(animal.speak())  # 输出: Some sound\n",
    "\n",
    "dog = Dog(\"Buddy\")\n",
    "print(dog.speak())    # 输出: Woof!\n",
    "print(dog.fetch())    # 输出: Buddy is fetching!\n",
    "print(isinstance(dog, Animal))  # 输出: True\n",
    "print(issubclass(Dog, Animal))  # 输出: True"
   ]
  },
  {
   "cell_type": "code",
   "execution_count": 3,
   "id": "c222627b",
   "metadata": {},
   "outputs": [
    {
     "name": "stdout",
     "output_type": "stream",
     "text": [
      "Some sound But I say Meow!\n",
      "black\n"
     ]
    }
   ],
   "source": [
    "class Cat(Animal):\n",
    "    def __init__(self, name, color):\n",
    "        super().__init__(name)  # 调用父类的__init__\n",
    "        self.color = color\n",
    "    \n",
    "    def speak(self):\n",
    "        parent_speak = super().speak()  # 调用父类的speak方法\n",
    "        return f\"{parent_speak} But I say Meow!\"\n",
    "\n",
    "cat = Cat(\"Whiskers\", \"black\")\n",
    "print(cat.speak())  # 输出: Some sound. But I say Meow!\n",
    "print(cat.color)    # 输出: black"
   ]
  },
  {
   "cell_type": "code",
   "execution_count": 4,
   "id": "cb72f1c7",
   "metadata": {},
   "outputs": [
    {
     "name": "stdout",
     "output_type": "stream",
     "text": [
      "A\n",
      "B\n",
      "(<class '__main__.C'>, <class '__main__.A'>, <class '__main__.B'>, <class 'object'>)\n"
     ]
    }
   ],
   "source": [
    "class A:\n",
    "    def method(self):\n",
    "        return \"A\"\n",
    "\n",
    "class B:\n",
    "    def method(self):\n",
    "        return \"B\"\n",
    "\n",
    "class C(A, B):  # 多重继承\n",
    "    pass\n",
    "\n",
    "class D(B, A):  # 顺序不同\n",
    "    pass\n",
    "\n",
    "print(C().method())  # 输出: A (先搜索A)\n",
    "print(D().method())  # 输出: B (先搜索B)\n",
    "\n",
    "# 查看方法解析顺序(MRO)\n",
    "print(C.__mro__)  # 输出: (<class '__main__.C'>, <class '__main__.A'>, <class '__main__.B'>, <class 'object'>)"
   ]
  },
  {
   "cell_type": "code",
   "execution_count": 5,
   "id": "1951a140",
   "metadata": {},
   "outputs": [
    {
     "name": "stdout",
     "output_type": "stream",
     "text": [
      "Parent1\n",
      "(<class '__main__.Child'>, <class '__main__.Parent1'>, <class '__main__.Parent2'>, <class '__main__.Grandparent'>, <class 'object'>)\n"
     ]
    }
   ],
   "source": [
    "class Grandparent:\n",
    "    def method(self):\n",
    "        return \"Grandparent\"\n",
    "\n",
    "class Parent1(Grandparent):\n",
    "    def method(self):\n",
    "        return \"Parent1\"\n",
    "\n",
    "class Parent2(Grandparent):\n",
    "    def method(self):\n",
    "        return \"Parent2\"\n",
    "\n",
    "class Child(Parent1, Parent2):\n",
    "    pass\n",
    "\n",
    "child = Child()\n",
    "print(child.method())  # 输出: Parent1\n",
    "print(Child.__mro__)  \n",
    "# 输出: (<class '__main__.Child'>, <class '__main__.Parent1'>, <class '__main__.Parent2'>, <class '__main__.Grandparent'>, <class 'object'>)"
   ]
  },
  {
   "cell_type": "code",
   "execution_count": 9,
   "id": "9f0ffdde",
   "metadata": {},
   "outputs": [
    {
     "name": "stdout",
     "output_type": "stream",
     "text": [
      "[<class '__main__.C'>, <class '__main__.A'>, <class '__main__.D'>, <class '__main__.B'>, <class 'object'>]\n",
      "A\n",
      "B\n"
     ]
    }
   ],
   "source": [
    "class A:\n",
    "    def method(self):\n",
    "        print(\"A\")\n",
    "        super().method()  # 在多重继承中会调用下一个类的方法\n",
    "\n",
    "class B:\n",
    "    def method(self):\n",
    "        print(\"B\")\n",
    "\n",
    "class D:\n",
    "    pass\n",
    "\n",
    "class C(A, D, B):\n",
    "    pass\n",
    "\n",
    "print(C.mro())\n",
    "\n",
    "c = C()\n",
    "c.method()\n",
    "# 输出:\n",
    "# A\n",
    "# B\n",
    "# 因为 MRO 是 C -> A -> B -> object\n",
    "# A中的super()会调用B的方法"
   ]
  },
  {
   "cell_type": "code",
   "execution_count": 8,
   "id": "64295eb9",
   "metadata": {},
   "outputs": [
    {
     "name": "stdout",
     "output_type": "stream",
     "text": [
      "(<class '__main__.C'>, <class '__main__.A'>, <class '__main__.B'>, <class '__main__.Base'>, <class 'object'>)\n",
      "C.__init__\n",
      "A.__init__\n",
      "B.__init__\n",
      "Base.__init__\n"
     ]
    }
   ],
   "source": [
    "class Base:\n",
    "    def __init__(self):\n",
    "        print(\"Base.__init__\")\n",
    "\n",
    "class A(Base):\n",
    "    def __init__(self):\n",
    "        print(\"A.__init__\")\n",
    "        super().__init__()\n",
    "\n",
    "class B(Base):\n",
    "    def __init__(self):\n",
    "        print(\"B.__init__\")\n",
    "        super().__init__()\n",
    "\n",
    "class C(A, B):\n",
    "    def __init__(self):\n",
    "        print(\"C.__init__\")\n",
    "        super().__init__()\n",
    "\n",
    "print(C.__mro__)  # 输出: (<class '__main__.C'>, <class '__main__.A'>, <class '__main__.B'>, <class '__main__.Base'>, <class 'object'>)\n",
    "\n",
    "c = C()\n",
    "# 输出:\n",
    "# C.__init__\n",
    "# A.__init__\n",
    "# B.__init__\n",
    "# Base.__init__"
   ]
  }
 ],
 "metadata": {
  "kernelspec": {
   "display_name": "py12",
   "language": "python",
   "name": "python3"
  },
  "language_info": {
   "codemirror_mode": {
    "name": "ipython",
    "version": 3
   },
   "file_extension": ".py",
   "mimetype": "text/x-python",
   "name": "python",
   "nbconvert_exporter": "python",
   "pygments_lexer": "ipython3",
   "version": "3.12.9"
  }
 },
 "nbformat": 4,
 "nbformat_minor": 5
}
