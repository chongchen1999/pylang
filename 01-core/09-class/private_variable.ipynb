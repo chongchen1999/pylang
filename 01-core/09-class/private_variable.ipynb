{
 "cells": [
  {
   "cell_type": "code",
   "execution_count": 1,
   "id": "cb680795",
   "metadata": {},
   "outputs": [
    {
     "name": "stdout",
     "output_type": "stream",
     "text": [
      "公共变量\n",
      "受保护变量(约定上的私有)\n"
     ]
    }
   ],
   "source": [
    "class Example:\n",
    "    def __init__(self):\n",
    "        self.public = \"公共变量\"\n",
    "        self._protected = \"受保护变量(约定上的私有)\"\n",
    "        \n",
    "    def _protected_method(self):\n",
    "        return \"这是一个受保护方法\"\n",
    "        \n",
    "e = Example()\n",
    "print(e.public)        # 可以访问\n",
    "print(e._protected)    # 仍然可以访问，但按照约定不应该直接访问"
   ]
  },
  {
   "cell_type": "code",
   "execution_count": 2,
   "id": "5079af27",
   "metadata": {},
   "outputs": [
    {
     "name": "stdout",
     "output_type": "stream",
     "text": [
      "[1, 2, 3]\n",
      "<bound method Mapping.update of <__main__.MappingSubclass object at 0x767628db3140>>\n"
     ]
    }
   ],
   "source": [
    "class Mapping:\n",
    "    def __init__(self, iterable):\n",
    "        self.items_list = []\n",
    "        self.__update(iterable)  # 会被改写为 _Mapping__update\n",
    "\n",
    "    def update(self, iterable):\n",
    "        for item in iterable:\n",
    "            self.items_list.append(item)\n",
    "\n",
    "    __update = update   # 私有副本，会被改写为 _Mapping__update\n",
    "\n",
    "class MappingSubclass(Mapping):\n",
    "    def update(self, keys, values):\n",
    "        # 提供新签名不会破坏父类的__init__\n",
    "        for item in zip(keys, values):\n",
    "            self.items_list.append(item)\n",
    "            \n",
    "    def __update(self, items):\n",
    "        # 这不会与父类的__update冲突，因为会被改写为_MappingSubclass__update\n",
    "        print(\"子类的私有方法\")\n",
    "\n",
    "m = MappingSubclass([1, 2, 3])\n",
    "print(m.items_list)  # [1, 2, 3]\n",
    "print(m._Mapping__update)  # 仍然可以访问改写后的名称"
   ]
  },
  {
   "cell_type": "code",
   "execution_count": 3,
   "id": "6ecd07e8",
   "metadata": {},
   "outputs": [
    {
     "name": "stdout",
     "output_type": "stream",
     "text": [
      "Point(x=1.5, y=2.5, z=0.0)\n"
     ]
    }
   ],
   "source": [
    "from dataclasses import dataclass\n",
    "\n",
    "@dataclass\n",
    "class Point:\n",
    "    x: float\n",
    "    y: float\n",
    "    z: float = 0.0  # 默认值\n",
    "\n",
    "p = Point(1.5, 2.5)\n",
    "print(p)  # Point(x=1.5, y=2.5, z=0.0)"
   ]
  },
  {
   "cell_type": "code",
   "execution_count": 7,
   "id": "2f463f69",
   "metadata": {},
   "outputs": [
    {
     "name": "stdout",
     "output_type": "stream",
     "text": [
      "第一行: 第一行\n",
      "剩余内容:\n",
      " 第二行\n",
      "第三行\n"
     ]
    }
   ],
   "source": [
    "class FakeFile:\n",
    "    def __init__(self, content):\n",
    "        self.content = content.splitlines()\n",
    "        self.line = 0\n",
    "    \n",
    "    def read(self):\n",
    "        return '\\n'.join(self.content[self.line:])\n",
    "    \n",
    "    def readline(self):\n",
    "        if self.line < len(self.content):\n",
    "            result = self.content[self.line]\n",
    "            self.line += 1\n",
    "            return result\n",
    "        return ''\n",
    "\n",
    "def process_file(file_obj):\n",
    "    print(\"第一行:\", file_obj.readline())\n",
    "    print(\"剩余内容:\\n\", file_obj.read())\n",
    "\n",
    "# 使用真实文件\n",
    "# with open('data.txt') as f:\n",
    "#     process_file(f)\n",
    "\n",
    "# 使用模拟文件对象\n",
    "fake = FakeFile(\"第一行\\n第二行\\n第三行\")\n",
    "process_file(fake)"
   ]
  }
 ],
 "metadata": {
  "kernelspec": {
   "display_name": "py12",
   "language": "python",
   "name": "python3"
  },
  "language_info": {
   "codemirror_mode": {
    "name": "ipython",
    "version": 3
   },
   "file_extension": ".py",
   "mimetype": "text/x-python",
   "name": "python",
   "nbconvert_exporter": "python",
   "pygments_lexer": "ipython3",
   "version": "3.12.9"
  }
 },
 "nbformat": 4,
 "nbformat_minor": 5
}
