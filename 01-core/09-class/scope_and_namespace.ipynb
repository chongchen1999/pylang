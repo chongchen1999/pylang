{
 "cells": [
  {
   "cell_type": "code",
   "execution_count": 1,
   "id": "a6e6e118",
   "metadata": {},
   "outputs": [
    {
     "name": "stdout",
     "output_type": "stream",
     "text": [
      "10\n",
      "I'm local\n",
      "I'm global\n"
     ]
    }
   ],
   "source": [
    "# 内置命名空间\n",
    "print(abs(-10))  # abs是内置命名空间中的函数\n",
    "\n",
    "# 全局命名空间\n",
    "global_var = \"I'm global\"\n",
    "\n",
    "def my_function():\n",
    "    # 局部命名空间\n",
    "    local_var = \"I'm local\"\n",
    "    print(local_var)\n",
    "    \n",
    "my_function()\n",
    "print(global_var)\n",
    "# print(local_var)  # 会报错，无法访问局部变量"
   ]
  },
  {
   "cell_type": "code",
   "execution_count": 2,
   "id": "c393b07f",
   "metadata": {},
   "outputs": [
    {
     "name": "stdout",
     "output_type": "stream",
     "text": [
      "inner\n",
      "outer\n",
      "<built-in function len>\n"
     ]
    }
   ],
   "source": [
    "def outer_function():\n",
    "    outer_var = \"outer\"  # 非局部非全局\n",
    "    \n",
    "    def inner_function():\n",
    "        inner_var = \"inner\"  # 局部\n",
    "        print(inner_var)     # 访问局部变量\n",
    "        print(outer_var)     # 访问外层非局部变量\n",
    "        print(len)           # 访问内置函数\n",
    "        \n",
    "    inner_function()\n",
    "    \n",
    "outer_function()"
   ]
  },
  {
   "cell_type": "code",
   "execution_count": 3,
   "id": "32eca36c",
   "metadata": {},
   "outputs": [
    {
     "name": "stdout",
     "output_type": "stream",
     "text": [
      "outer after inner: modified outer x\n",
      "global after outer: global x\n",
      "global after modify_global: modified global x\n"
     ]
    }
   ],
   "source": [
    "x = \"global x\"\n",
    "\n",
    "def outer():\n",
    "    x = \"outer x\"\n",
    "    \n",
    "    def inner():\n",
    "        nonlocal x  # 引用外层函数的x\n",
    "        x = \"modified outer x\"\n",
    "        \n",
    "    inner()\n",
    "    print(\"outer after inner:\", x)\n",
    "    \n",
    "outer()\n",
    "print(\"global after outer:\", x)\n",
    "\n",
    "def modify_global():\n",
    "    global x  # 引用全局的x\n",
    "    x = \"modified global x\"\n",
    "    \n",
    "modify_global()\n",
    "print(\"global after modify_global:\", x)"
   ]
  },
  {
   "cell_type": "code",
   "execution_count": 4,
   "id": "4f329b70",
   "metadata": {},
   "outputs": [
    {
     "name": "stdout",
     "output_type": "stream",
     "text": [
      "class variable\n",
      "instance variable\n",
      "local variable\n"
     ]
    }
   ],
   "source": [
    "class MyClass:\n",
    "    class_var = \"class variable\"  # 类命名空间\n",
    "    \n",
    "    def __init__(self):\n",
    "        self.instance_var = \"instance variable\"  # 实例命名空间\n",
    "        \n",
    "    def method(self):\n",
    "        local_var = \"local variable\"  # 方法局部命名空间\n",
    "        print(local_var)\n",
    "        \n",
    "obj = MyClass()\n",
    "print(MyClass.class_var)    # 访问类变量\n",
    "print(obj.instance_var)     # 访问实例变量\n",
    "obj.method()               # 调用方法"
   ]
  },
  {
   "cell_type": "code",
   "execution_count": 5,
   "id": "02d1e815",
   "metadata": {},
   "outputs": [
    {
     "name": "stdout",
     "output_type": "stream",
     "text": [
      "local: local\n",
      "after local: original\n",
      "nonlocal: nonlocal\n",
      "after nonlocal: nonlocal\n",
      "global: global\n",
      "after global: nonlocal\n",
      "final global: global\n"
     ]
    }
   ],
   "source": [
    "def scope_demo():\n",
    "    def local_scope():\n",
    "        var = \"local\"\n",
    "        print(\"local:\", var)\n",
    "        \n",
    "    def nonlocal_scope():\n",
    "        nonlocal var\n",
    "        var = \"nonlocal\"\n",
    "        print(\"nonlocal:\", var)\n",
    "        \n",
    "    def global_scope():\n",
    "        global var\n",
    "        var = \"global\"\n",
    "        print(\"global:\", var)\n",
    "        \n",
    "    var = \"original\"\n",
    "    local_scope()\n",
    "    print(\"after local:\", var)\n",
    "    nonlocal_scope()\n",
    "    print(\"after nonlocal:\", var)\n",
    "    global_scope()\n",
    "    print(\"after global:\", var)\n",
    "    \n",
    "var = \"global original\"\n",
    "scope_demo()\n",
    "print(\"final global:\", var)"
   ]
  },
  {
   "cell_type": "code",
   "execution_count": 6,
   "id": "39187548",
   "metadata": {},
   "outputs": [
    {
     "name": "stdout",
     "output_type": "stream",
     "text": [
      "3.141592653589793\n",
      "42\n"
     ]
    }
   ],
   "source": [
    "# 模块命名空间示例\n",
    "import math\n",
    "\n",
    "print(math.pi)  # 访问math模块的命名空间\n",
    "\n",
    "# 动态修改命名空间\n",
    "math.new_constant = 42\n",
    "print(math.new_constant)\n",
    "\n",
    "# 删除命名空间中的名称\n",
    "del math.new_constant\n",
    "# print(math.new_constant)  # 会报错"
   ]
  },
  {
   "cell_type": "code",
   "execution_count": 7,
   "id": "7a791ae5",
   "metadata": {},
   "outputs": [
    {
     "name": "stdout",
     "output_type": "stream",
     "text": [
      "10\n"
     ]
    }
   ],
   "source": [
    "def outer_func():\n",
    "    outer_var = 10\n",
    "    \n",
    "    def inner_func():\n",
    "        print(outer_var)  # 闭包可以访问外部函数的变量\n",
    "        \n",
    "    return inner_func\n",
    "\n",
    "closure = outer_func()\n",
    "closure()  # 输出: 10"
   ]
  },
  {
   "cell_type": "code",
   "execution_count": 10,
   "id": "c6743348",
   "metadata": {},
   "outputs": [
    {
     "name": "stdout",
     "output_type": "stream",
     "text": [
      "custom len\n",
      "3\n"
     ]
    }
   ],
   "source": [
    "def hiding_demo():\n",
    "    len_ = \"custom len\"  # 隐藏了内置函数len\n",
    "    \n",
    "    def inner():\n",
    "        # print(len([1,2,3]))  # 会报错，因为len现在是字符串\n",
    "        print(len_)          # 输出: custom len\n",
    "        \n",
    "    inner()\n",
    "    del len_                # 删除自定义的len\n",
    "    print(len([1,2,3]))    # 现在可以访问内置len函数\n",
    "    \n",
    "hiding_demo()"
   ]
  }
 ],
 "metadata": {
  "kernelspec": {
   "display_name": "py12",
   "language": "python",
   "name": "python3"
  },
  "language_info": {
   "codemirror_mode": {
    "name": "ipython",
    "version": 3
   },
   "file_extension": ".py",
   "mimetype": "text/x-python",
   "name": "python",
   "nbconvert_exporter": "python",
   "pygments_lexer": "ipython3",
   "version": "3.12.9"
  }
 },
 "nbformat": 4,
 "nbformat_minor": 5
}
