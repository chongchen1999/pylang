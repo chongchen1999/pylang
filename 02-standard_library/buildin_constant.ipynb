{
 "cells": [
  {
   "cell_type": "markdown",
   "id": "b2ff3d6a",
   "metadata": {},
   "source": [
    "# 内置常量\n",
    "\n",
    "## False True None\n",
    "## NotImplemented\n",
    "## Ellipsis ...\n",
    "## __debug__"
   ]
  },
  {
   "cell_type": "code",
   "execution_count": 2,
   "id": "e05f26c4",
   "metadata": {},
   "outputs": [
    {
     "name": "stdout",
     "output_type": "stream",
     "text": [
      "True\n",
      "False\n",
      "True\n",
      "False\n"
     ]
    }
   ],
   "source": [
    "# 1. True 和 False - 布尔类型的常量\n",
    "print(True)  # 输出: True\n",
    "print(False)  # 输出: False\n",
    "\n",
    "# 尝试给 True 或 False 赋值会引发 SyntaxError\n",
    "# True = 1  # 这行会报错: SyntaxError: cannot assign to True\n",
    "\n",
    "# 布尔运算示例\n",
    "print(5 > 3)  # 输出: True\n",
    "print(5 == 3)  # 输出: False"
   ]
  },
  {
   "cell_type": "code",
   "execution_count": null,
   "id": "9819a273",
   "metadata": {},
   "outputs": [
    {
     "name": "stdout",
     "output_type": "stream",
     "text": [
      "Hello\n",
      "None\n",
      "Hello, stranger!\n",
      "Hello, Alice!\n"
     ]
    }
   ],
   "source": [
    "# 2. None - 表示空值或无值\n",
    "result = print(\"Hello\")  # print函数没有返回值\n",
    "print(result)  # 输出: None\n",
    "\n",
    "def greet(name=None):\n",
    "    if name is None:\n",
    "        return \"Hello, stranger!\"\n",
    "    return f\"Hello, {name}!\"\n",
    "\n",
    "print(greet())  # 输出: Hello, stranger!\n",
    "print(greet(\"Alice\"))  # 输出: Hello, Alice!\n"
   ]
  },
  {
   "cell_type": "code",
   "execution_count": 4,
   "id": "49611166",
   "metadata": {},
   "outputs": [
    {
     "name": "stdout",
     "output_type": "stream",
     "text": [
      "8\n",
      "错误: unsupported operand type(s) for +: 'MyNumber' and 'int'\n"
     ]
    }
   ],
   "source": [
    "# 3. NotImplemented - 用于特殊方法表示操作未实现\n",
    "class MyNumber:\n",
    "    def __init__(self, value):\n",
    "        self.value = value\n",
    "    \n",
    "    def __add__(self, other):\n",
    "        if isinstance(other, MyNumber):\n",
    "            return MyNumber(self.value + other.value)\n",
    "        return NotImplemented  # 表示不支持与其他类型的加法\n",
    "\n",
    "num1 = MyNumber(5)\n",
    "num2 = MyNumber(3)\n",
    "print((num1 + num2).value)  # 输出: 8\n",
    "\n",
    "try:\n",
    "    num1 + 3  # 会尝试调用 int.__radd__，如果也不支持则引发 TypeError\n",
    "except TypeError as e:\n",
    "    print(f\"错误: {e}\")  # 输出: 错误: unsupported operand type(s) for +: 'MyNumber' and 'int'"
   ]
  },
  {
   "cell_type": "code",
   "execution_count": 6,
   "id": "035cc426",
   "metadata": {},
   "outputs": [
    {
     "name": "stdout",
     "output_type": "stream",
     "text": [
      "调试模式已启用\n"
     ]
    }
   ],
   "source": [
    "# 5. __debug__ - 调试标志\n",
    "if __debug__:\n",
    "    print(\"调试模式已启用\")  # 默认情况下会输出\n",
    "else:\n",
    "    print(\"调试模式已禁用\")  # 使用 -O 选项运行Python时输出"
   ]
  },
  {
   "cell_type": "code",
   "execution_count": 7,
   "id": "d2157150",
   "metadata": {},
   "outputs": [
    {
     "name": "stdout",
     "output_type": "stream",
     "text": [
      "<class 'ellipsis'>\n",
      "True\n"
     ]
    }
   ],
   "source": [
    "print(type(...))  # <class 'ellipsis'>\n",
    "print(... is Ellipsis)  # True"
   ]
  },
  {
   "cell_type": "code",
   "execution_count": 11,
   "id": "9419af85",
   "metadata": {},
   "outputs": [
    {
     "name": "stdout",
     "output_type": "stream",
     "text": [
      "(2, 3, 4, 5)\n",
      "[[[[0.28016496 0.92015124 0.32222793 0.80106031 0.79115692]\n",
      "   [0.46646377 0.78380682 0.52194572 0.41792753 0.41063801]\n",
      "   [0.09378067 0.32797629 0.71068203 0.42882149 0.43346844]\n",
      "   [0.8207264  0.74984151 0.92136226 0.54389297 0.98974605]]\n",
      "\n",
      "  [[0.89085021 0.64120244 0.98589939 0.53688451 0.64129876]\n",
      "   [0.08573237 0.3242133  0.94450291 0.04484802 0.24600785]\n",
      "   [0.60908365 0.08950656 0.08397818 0.8707404  0.77165023]\n",
      "   [0.60957501 0.66509471 0.37337862 0.19975322 0.0333253 ]]\n",
      "\n",
      "  [[0.33531846 0.01129917 0.55799546 0.12786166 0.1595649 ]\n",
      "   [0.57120095 0.59969184 0.43224796 0.04864599 0.9100295 ]\n",
      "   [0.23448626 0.90803993 0.45424892 0.30358553 0.9220253 ]\n",
      "   [0.53224336 0.02559852 0.96636219 0.75468683 0.96123082]]]\n",
      "\n",
      "\n",
      " [[[0.74381975 0.38531107 0.69122742 0.87946005 0.89627642]\n",
      "   [0.63213474 0.63854832 0.36468183 0.01940612 0.1125995 ]\n",
      "   [0.82779931 0.33452399 0.76065609 0.87793385 0.93057085]\n",
      "   [0.51778728 0.2692466  0.8524456  0.09732358 0.88385094]]\n",
      "\n",
      "  [[0.34107816 0.46972846 0.36482471 0.37668326 0.77365576]\n",
      "   [0.00154571 0.48894107 0.81642606 0.98524484 0.60827443]\n",
      "   [0.20397083 0.82895512 0.35861726 0.75349315 0.46377071]\n",
      "   [0.49853427 0.09359926 0.00172484 0.11205085 0.03072718]]\n",
      "\n",
      "  [[0.15004658 0.0845899  0.12457566 0.09705019 0.02824408]\n",
      "   [0.32254139 0.31018807 0.89573885 0.34919777 0.45953765]\n",
      "   [0.64013989 0.13927132 0.97884003 0.10164626 0.80636801]\n",
      "   [0.17550223 0.40996931 0.50139729 0.01032459 0.16822502]]]]\n",
      "(3, 4, 5)\n",
      "(2, 3, 4)\n",
      "[[[0.74381975 0.38531107 0.69122742 0.87946005 0.89627642]\n",
      "  [0.63213474 0.63854832 0.36468183 0.01940612 0.1125995 ]\n",
      "  [0.82779931 0.33452399 0.76065609 0.87793385 0.93057085]\n",
      "  [0.51778728 0.2692466  0.8524456  0.09732358 0.88385094]]\n",
      "\n",
      " [[0.34107816 0.46972846 0.36482471 0.37668326 0.77365576]\n",
      "  [0.00154571 0.48894107 0.81642606 0.98524484 0.60827443]\n",
      "  [0.20397083 0.82895512 0.35861726 0.75349315 0.46377071]\n",
      "  [0.49853427 0.09359926 0.00172484 0.11205085 0.03072718]]\n",
      "\n",
      " [[0.15004658 0.0845899  0.12457566 0.09705019 0.02824408]\n",
      "  [0.32254139 0.31018807 0.89573885 0.34919777 0.45953765]\n",
      "  [0.64013989 0.13927132 0.97884003 0.10164626 0.80636801]\n",
      "  [0.17550223 0.40996931 0.50139729 0.01032459 0.16822502]]]\n",
      "[[[0.32222793 0.52194572 0.71068203 0.92136226]\n",
      "  [0.98589939 0.94450291 0.08397818 0.37337862]\n",
      "  [0.55799546 0.43224796 0.45424892 0.96636219]]\n",
      "\n",
      " [[0.69122742 0.36468183 0.76065609 0.8524456 ]\n",
      "  [0.36482471 0.81642606 0.35861726 0.00172484]\n",
      "  [0.12457566 0.89573885 0.97884003 0.50139729]]]\n"
     ]
    }
   ],
   "source": [
    "import numpy as np\n",
    "\n",
    "arr = np.random.rand(2, 3, 4, 5)\n",
    "\n",
    "print(arr.shape)  # 输出: (2, 3, 4, 5)\n",
    "print(arr)\n",
    "\n",
    "# 使用 ... 简化切片\n",
    "print(arr[1, ...].shape)  # (3, 4, 5) - 等同于 arr[1, :, :, :]\n",
    "print(arr[..., 2].shape)  # (2, 3, 5) - 等同于 arr[:, :, :, 5]\n",
    "\n",
    "print(arr[1, ...])\n",
    "print(arr[..., 2])"
   ]
  },
  {
   "cell_type": "code",
   "execution_count": null,
   "id": "e3c1f46c",
   "metadata": {},
   "outputs": [],
   "source": []
  }
 ],
 "metadata": {
  "kernelspec": {
   "display_name": "py12",
   "language": "python",
   "name": "python3"
  },
  "language_info": {
   "codemirror_mode": {
    "name": "ipython",
    "version": 3
   },
   "file_extension": ".py",
   "mimetype": "text/x-python",
   "name": "python",
   "nbconvert_exporter": "python",
   "pygments_lexer": "ipython3",
   "version": "3.12.9"
  }
 },
 "nbformat": 4,
 "nbformat_minor": 5
}
