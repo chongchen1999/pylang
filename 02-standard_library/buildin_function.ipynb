{
 "cells": [
  {
   "cell_type": "markdown",
   "id": "c5ea8d85",
   "metadata": {},
   "source": [
    "# Python 内置函数列表（按字母顺序）\n",
    "\n",
    "## A\n",
    "- `abs()`\n",
    "- `aiter()`\n",
    "- `all()`\n",
    "- `anext()`\n",
    "- `any()`\n",
    "- `ascii()`\n",
    "\n",
    "## B\n",
    "- `bin()`\n",
    "- `bool()`\n",
    "- `breakpoint()`\n",
    "- `bytearray()`\n",
    "- `bytes()`\n",
    "\n",
    "## C\n",
    "- `callable()`\n",
    "- `chr()`\n",
    "- `classmethod()`\n",
    "- `compile()`\n",
    "- `complex()`\n",
    "\n",
    "## D\n",
    "- `delattr()`\n",
    "- `dict()`\n",
    "- `dir()`\n",
    "- `divmod()`\n",
    "\n",
    "## E\n",
    "- `enumerate()`\n",
    "- `eval()`\n",
    "- `exec()`\n",
    "\n",
    "## F\n",
    "- `filter()`\n",
    "- `float()`\n",
    "- `format()`\n",
    "- `frozenset()`\n",
    "\n",
    "## G\n",
    "- `getattr()`\n",
    "- `globals()`\n",
    "\n",
    "## H\n",
    "- `hasattr()`\n",
    "- `hash()`\n",
    "- `help()`\n",
    "- `hex()`\n",
    "\n",
    "## I\n",
    "- `id()`\n",
    "- `input()`\n",
    "- `int()`\n",
    "- `isinstance()`\n",
    "- `issubclass()`\n",
    "- `iter()`\n",
    "\n",
    "## L\n",
    "- `len()`\n",
    "- `list()`\n",
    "- `locals()`\n",
    "\n",
    "## M\n",
    "- `map()`\n",
    "- `max()`\n",
    "- `memoryview()`\n",
    "- `min()`\n",
    "\n",
    "## N\n",
    "- `next()`\n",
    "\n",
    "## O\n",
    "- `object()`\n",
    "- `oct()`\n",
    "- `open()`\n",
    "- `ord()`\n",
    "\n",
    "## P\n",
    "- `pow()`\n",
    "- `print()`\n",
    "- `property()`\n",
    "\n",
    "## R\n",
    "- `range()`\n",
    "- `repr()`\n",
    "- `reversed()`\n",
    "- `round()`\n",
    "\n",
    "## S\n",
    "- `set()`\n",
    "- `setattr()`\n",
    "- `slice()`\n",
    "- `sorted()`\n",
    "- `staticmethod()`\n",
    "- `str()`\n",
    "- `sum()`\n",
    "- `super()`\n",
    "\n",
    "## T\n",
    "- `tuple()`\n",
    "- `type()`\n",
    "\n",
    "## V\n",
    "- `vars()`\n",
    "\n",
    "## Z\n",
    "- `zip()`\n",
    "\n",
    "## _\n",
    "- `__import__()`"
   ]
  },
  {
   "cell_type": "code",
   "execution_count": 1,
   "id": "2b44a1cf",
   "metadata": {},
   "outputs": [
    {
     "name": "stdout",
     "output_type": "stream",
     "text": [
      "True\n",
      "False\n"
     ]
    }
   ],
   "source": [
    "print(all([1, 2, 3]))     # 输出: True\n",
    "print(all([0, 1, 2]))     # 输出: False"
   ]
  },
  {
   "cell_type": "code",
   "execution_count": 2,
   "id": "9c67f4ff",
   "metadata": {},
   "outputs": [
    {
     "name": "stdout",
     "output_type": "stream",
     "text": [
      "['__add__', '__class__', '__class_getitem__', '__contains__', '__delattr__', '__delitem__', '__dir__', '__doc__', '__eq__', '__format__', '__ge__', '__getattribute__', '__getitem__', '__getstate__', '__gt__', '__hash__', '__iadd__', '__imul__', '__init__', '__init_subclass__', '__iter__', '__le__', '__len__', '__lt__', '__mul__', '__ne__', '__new__', '__reduce__', '__reduce_ex__', '__repr__', '__reversed__', '__rmul__', '__setattr__', '__setitem__', '__sizeof__', '__str__', '__subclasshook__', 'append', 'clear', 'copy', 'count', 'extend', 'index', 'insert', 'pop', 'remove', 'reverse', 'sort']\n"
     ]
    }
   ],
   "source": [
    "print(dir([]))  # 输出列表的方法"
   ]
  },
  {
   "cell_type": "code",
   "execution_count": 3,
   "id": "eb90e1d7",
   "metadata": {},
   "outputs": [
    {
     "name": "stdout",
     "output_type": "stream",
     "text": [
      "0 a\n",
      "1 b\n"
     ]
    }
   ],
   "source": [
    "for i, v in enumerate([\"a\", \"b\"]):\n",
    "    print(i, v)  # 输出: 0 a, 1 b"
   ]
  },
  {
   "cell_type": "code",
   "execution_count": 4,
   "id": "b9cc04cd",
   "metadata": {},
   "outputs": [
    {
     "name": "stdout",
     "output_type": "stream",
     "text": [
      "[2]\n"
     ]
    }
   ],
   "source": [
    "even = filter(lambda x: x % 2 == 0, [1, 2, 3])\n",
    "print(list(even))  # 输出: [2]"
   ]
  },
  {
   "cell_type": "code",
   "execution_count": 5,
   "id": "a3cb9dfd",
   "metadata": {},
   "outputs": [
    {
     "name": "stdout",
     "output_type": "stream",
     "text": [
      "[(1, 'a'), (2, 'b')]\n"
     ]
    }
   ],
   "source": [
    "pairs = zip([1, 2], [\"a\", \"b\"])\n",
    "print(list(pairs))  # 输出: [(1, 'a'), (2, 'b')]"
   ]
  }
 ],
 "metadata": {
  "kernelspec": {
   "display_name": "py12",
   "language": "python",
   "name": "python3"
  },
  "language_info": {
   "codemirror_mode": {
    "name": "ipython",
    "version": 3
   },
   "file_extension": ".py",
   "mimetype": "text/x-python",
   "name": "python",
   "nbconvert_exporter": "python",
   "pygments_lexer": "ipython3",
   "version": "3.12.9"
  }
 },
 "nbformat": 4,
 "nbformat_minor": 5
}
