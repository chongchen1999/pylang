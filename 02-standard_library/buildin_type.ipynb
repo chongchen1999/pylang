{
 "cells": [
  {
   "cell_type": "code",
   "execution_count": 6,
   "id": "628fdde0",
   "metadata": {},
   "outputs": [
    {
     "name": "stdout",
     "output_type": "stream",
     "text": [
      "None is False\n",
      "False is False\n",
      "0 is False\n",
      "0.0 is False\n",
      " is False\n",
      "[] is False\n",
      "() is False\n",
      "{} is False\n",
      "set() is False\n",
      "True\n",
      "False\n",
      "False\n"
     ]
    }
   ],
   "source": [
    "# 逻辑值检测 - 以下值在布尔上下文中会被视为False\n",
    "false_values = [None, False, 0, 0.0, '', [], (), {}, set()]\n",
    "for value in false_values:\n",
    "    print(f\"{value} is\", bool(value))\n",
    "\n",
    "# 布尔运算\n",
    "x = 5\n",
    "print(x > 3 and x < 10)  # True\n",
    "print(x < 3 or x > 10)   # False\n",
    "print(not x == 5)        # False"
   ]
  },
  {
   "cell_type": "code",
   "execution_count": 9,
   "id": "96a65945",
   "metadata": {},
   "outputs": [
    {
     "name": "stdout",
     "output_type": "stream",
     "text": [
      "[0, 2, 3, 4]\n",
      "[0, 1, 2, 3, 4]\n",
      "HELLO\n",
      "range(1, 10, 2)\n"
     ]
    }
   ],
   "source": [
    "# 列表 - 可变序列\n",
    "lst = [1, 2, 3]\n",
    "lst.append(4)\n",
    "lst[0] = 0\n",
    "print(lst)  # [0, 2, 3, 4]\n",
    "\n",
    "# 元组 - 不可变序列\n",
    "tup = (1, 2, 3)\n",
    "# tup[0] = 0  # 会报错\n",
    "\n",
    "# range - 不可变的数字序列\n",
    "r = range(5)\n",
    "print(list(r))  # [0, 1, 2, 3, 4]\n",
    "\n",
    "# 字符串 - 不可变的文本序列\n",
    "s = \"Hello\"\n",
    "print(s.upper())  # \"HELLO\"\n",
    "\n",
    "print(range(1, 10, 2))  # range(1, 10, 2)"
   ]
  },
  {
   "cell_type": "code",
   "execution_count": 10,
   "id": "57709106",
   "metadata": {},
   "outputs": [
    {
     "name": "stdout",
     "output_type": "stream",
     "text": [
      "{1, 3, 4}\n",
      "dict_keys(['name', 'age', 'city'])\n"
     ]
    }
   ],
   "source": [
    "# 集合 - 无序不重复元素\n",
    "set1 = {1, 2, 3}\n",
    "set1.add(4)\n",
    "set1.discard(2)\n",
    "print(set1)  # {1, 3, 4}\n",
    "\n",
    "# 字典 - 键值对映射\n",
    "d = {'name': 'Alice', 'age': 25}\n",
    "d['city'] = 'New York'\n",
    "print(d.keys())  # dict_keys(['name', 'age', 'city'])"
   ]
  },
  {
   "cell_type": "code",
   "execution_count": 11,
   "id": "6cb9f8b3",
   "metadata": {},
   "outputs": [
    {
     "name": "stdout",
     "output_type": "stream",
     "text": [
      "104\n"
     ]
    }
   ],
   "source": [
    "# bytes - 不可变字节序列\n",
    "b = b'hello'\n",
    "print(b[0])  # 104 (ASCII码)\n",
    "\n",
    "# bytearray - 可变字节序列\n",
    "ba = bytearray(b'hello')\n",
    "ba[0] = 104  # 修改第一个字节"
   ]
  },
  {
   "cell_type": "code",
   "execution_count": 12,
   "id": "e28a4347",
   "metadata": {},
   "outputs": [
    {
     "name": "stdout",
     "output_type": "stream",
     "text": [
      "{'name': <class 'str'>, 'return': <class 'str'>}\n",
      "(<class 'list'>, <class 'object'>)\n"
     ]
    }
   ],
   "source": [
    "# 类型注解\n",
    "from typing import Union, List\n",
    "\n",
    "def greet(name: str) -> str:\n",
    "    return f\"Hello, {name}\"\n",
    "\n",
    "age: Union[int, None] = None\n",
    "scores: List[int] = [90, 85, 95]\n",
    "\n",
    "# 特殊属性\n",
    "print(greet.__annotations__)  # {'name': <class 'str'>, 'return': <class 'str'>}\n",
    "print(list.__mro__)  # 方法解析顺序"
   ]
  },
  {
   "cell_type": "code",
   "execution_count": 13,
   "id": "93a9deb5",
   "metadata": {},
   "outputs": [
    {
     "name": "stdout",
     "output_type": "stream",
     "text": [
      "1\n",
      "2\n"
     ]
    }
   ],
   "source": [
    "# 上下文管理器\n",
    "with open('example.txt', 'w') as f:\n",
    "    f.write('Hello, world!')\n",
    "\n",
    "# 迭代器\n",
    "numbers = [1, 2, 3]\n",
    "iter_obj = iter(numbers)\n",
    "print(next(iter_obj))  # 1\n",
    "print(next(iter_obj))  # 2"
   ]
  },
  {
   "cell_type": "code",
   "execution_count": 14,
   "id": "66fc8c9c",
   "metadata": {},
   "outputs": [
    {
     "name": "stdout",
     "output_type": "stream",
     "text": [
      "Max digits for int conversion: 4300\n"
     ]
    }
   ],
   "source": [
    "import sys\n",
    "\n",
    "# 整数字符串转换长度限制\n",
    "max_digits = sys.get_int_max_str_digits()  # Python 3.11+ 默认4300\n",
    "print(f\"Max digits for int conversion: {max_digits}\")\n",
    "\n",
    "# 可以设置限制(出于安全考虑)\n",
    "# sys.set_int_max_str_digits(5000)"
   ]
  }
 ],
 "metadata": {
  "kernelspec": {
   "display_name": "py12",
   "language": "python",
   "name": "python3"
  },
  "language_info": {
   "codemirror_mode": {
    "name": "ipython",
    "version": 3
   },
   "file_extension": ".py",
   "mimetype": "text/x-python",
   "name": "python",
   "nbconvert_exporter": "python",
   "pygments_lexer": "ipython3",
   "version": "3.12.9"
  }
 },
 "nbformat": 4,
 "nbformat_minor": 5
}
