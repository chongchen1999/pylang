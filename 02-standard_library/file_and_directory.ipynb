{
 "cells": [
  {
   "cell_type": "code",
   "execution_count": 1,
   "id": "94d23c59",
   "metadata": {},
   "outputs": [
    {
     "name": "stdout",
     "output_type": "stream",
     "text": [
      "/home/user/documents/report.txt\n",
      "report.txt\n",
      "report\n",
      ".txt\n",
      "/home/user/documents\n",
      "False\n",
      "False\n",
      "False\n"
     ]
    },
    {
     "ename": "FileNotFoundError",
     "evalue": "[Errno 2] No such file or directory: '/home/user/new_folder'",
     "output_type": "error",
     "traceback": [
      "\u001b[31m---------------------------------------------------------------------------\u001b[39m",
      "\u001b[31mFileNotFoundError\u001b[39m                         Traceback (most recent call last)",
      "\u001b[36mCell\u001b[39m\u001b[36m \u001b[39m\u001b[32mIn[1]\u001b[39m\u001b[32m, line 23\u001b[39m\n\u001b[32m     21\u001b[39m \u001b[38;5;66;03m# 创建目录\u001b[39;00m\n\u001b[32m     22\u001b[39m new_dir = Path(\u001b[33m'\u001b[39m\u001b[33m/home/user/new_folder\u001b[39m\u001b[33m'\u001b[39m)\n\u001b[32m---> \u001b[39m\u001b[32m23\u001b[39m \u001b[43mnew_dir\u001b[49m\u001b[43m.\u001b[49m\u001b[43mmkdir\u001b[49m\u001b[43m(\u001b[49m\u001b[43mexist_ok\u001b[49m\u001b[43m=\u001b[49m\u001b[38;5;28;43;01mTrue\u001b[39;49;00m\u001b[43m)\u001b[49m  \u001b[38;5;66;03m# exist_ok=True 避免目录已存在时报错\u001b[39;00m\n\u001b[32m     25\u001b[39m \u001b[38;5;66;03m# 遍历目录\u001b[39;00m\n\u001b[32m     26\u001b[39m \u001b[38;5;28;01mfor\u001b[39;00m file \u001b[38;5;129;01min\u001b[39;00m Path(\u001b[33m'\u001b[39m\u001b[33m.\u001b[39m\u001b[33m'\u001b[39m).glob(\u001b[33m'\u001b[39m\u001b[33m*.py\u001b[39m\u001b[33m'\u001b[39m):  \u001b[38;5;66;03m# 当前目录下所有.py文件\u001b[39;00m\n",
      "\u001b[36mFile \u001b[39m\u001b[32m~/miniconda3/envs/py12/lib/python3.12/pathlib.py:1311\u001b[39m, in \u001b[36mPath.mkdir\u001b[39m\u001b[34m(self, mode, parents, exist_ok)\u001b[39m\n\u001b[32m   1307\u001b[39m \u001b[38;5;250m\u001b[39m\u001b[33;03m\"\"\"\u001b[39;00m\n\u001b[32m   1308\u001b[39m \u001b[33;03mCreate a new directory at this given path.\u001b[39;00m\n\u001b[32m   1309\u001b[39m \u001b[33;03m\"\"\"\u001b[39;00m\n\u001b[32m   1310\u001b[39m \u001b[38;5;28;01mtry\u001b[39;00m:\n\u001b[32m-> \u001b[39m\u001b[32m1311\u001b[39m     \u001b[43mos\u001b[49m\u001b[43m.\u001b[49m\u001b[43mmkdir\u001b[49m\u001b[43m(\u001b[49m\u001b[38;5;28;43mself\u001b[39;49m\u001b[43m,\u001b[49m\u001b[43m \u001b[49m\u001b[43mmode\u001b[49m\u001b[43m)\u001b[49m\n\u001b[32m   1312\u001b[39m \u001b[38;5;28;01mexcept\u001b[39;00m \u001b[38;5;167;01mFileNotFoundError\u001b[39;00m:\n\u001b[32m   1313\u001b[39m     \u001b[38;5;28;01mif\u001b[39;00m \u001b[38;5;129;01mnot\u001b[39;00m parents \u001b[38;5;129;01mor\u001b[39;00m \u001b[38;5;28mself\u001b[39m.parent == \u001b[38;5;28mself\u001b[39m:\n",
      "\u001b[31mFileNotFoundError\u001b[39m: [Errno 2] No such file or directory: '/home/user/new_folder'"
     ]
    }
   ],
   "source": [
    "from pathlib import Path\n",
    "\n",
    "# 创建路径对象\n",
    "p = Path('/home/user/documents')\n",
    "\n",
    "# 路径拼接\n",
    "new_p = p / 'report.txt'\n",
    "print(new_p)  # /home/user/documents/report.txt\n",
    "\n",
    "# 获取路径各部分\n",
    "print(new_p.name)     # report.txt\n",
    "print(new_p.stem)     # report\n",
    "print(new_p.suffix)   # .txt\n",
    "print(new_p.parent)   # /home/user/documents\n",
    "\n",
    "# 检查路径\n",
    "print(new_p.exists())  # 检查是否存在\n",
    "print(new_p.is_file()) # 是否是文件\n",
    "print(new_p.is_dir())  # 是否是目录\n",
    "\n",
    "# 创建目录\n",
    "new_dir = Path('/home/user/new_folder')\n",
    "new_dir.mkdir(exist_ok=True)  # exist_ok=True 避免目录已存在时报错\n",
    "\n",
    "# 遍历目录\n",
    "for file in Path('.').glob('*.py'):  # 当前目录下所有.py文件\n",
    "    print(file)"
   ]
  },
  {
   "cell_type": "code",
   "execution_count": 2,
   "id": "d7916d3e",
   "metadata": {},
   "outputs": [
    {
     "name": "stdout",
     "output_type": "stream",
     "text": [
      "/home/user/documents/report.txt\n",
      "report.txt\n",
      "/home/user/documents\n",
      "('/home/user/documents/report', '.txt')\n",
      "False\n",
      "False\n",
      "False\n"
     ]
    },
    {
     "ename": "FileNotFoundError",
     "evalue": "[Errno 2] No such file or directory: '/home/user/documents/report.txt'",
     "output_type": "error",
     "traceback": [
      "\u001b[31m---------------------------------------------------------------------------\u001b[39m",
      "\u001b[31mFileNotFoundError\u001b[39m                         Traceback (most recent call last)",
      "\u001b[36mCell\u001b[39m\u001b[36m \u001b[39m\u001b[32mIn[2]\u001b[39m\u001b[32m, line 16\u001b[39m\n\u001b[32m     14\u001b[39m \u001b[38;5;28mprint\u001b[39m(os.path.isfile(path))      \u001b[38;5;66;03m# 是否是文件\u001b[39;00m\n\u001b[32m     15\u001b[39m \u001b[38;5;28mprint\u001b[39m(os.path.isdir(path))       \u001b[38;5;66;03m# 是否是目录\u001b[39;00m\n\u001b[32m---> \u001b[39m\u001b[32m16\u001b[39m \u001b[38;5;28mprint\u001b[39m(\u001b[43mos\u001b[49m\u001b[43m.\u001b[49m\u001b[43mpath\u001b[49m\u001b[43m.\u001b[49m\u001b[43mgetsize\u001b[49m\u001b[43m(\u001b[49m\u001b[43mpath\u001b[49m\u001b[43m)\u001b[49m)     \u001b[38;5;66;03m# 获取文件大小(字节)\u001b[39;00m\n\u001b[32m     17\u001b[39m \u001b[38;5;28mprint\u001b[39m(os.path.getmtime(path))    \u001b[38;5;66;03m# 获取最后修改时间(时间戳)\u001b[39;00m\n\u001b[32m     19\u001b[39m \u001b[38;5;66;03m# 绝对路径和相对路径\u001b[39;00m\n",
      "\u001b[36mFile \u001b[39m\u001b[32m<frozen genericpath>:62\u001b[39m, in \u001b[36mgetsize\u001b[39m\u001b[34m(filename)\u001b[39m\n",
      "\u001b[31mFileNotFoundError\u001b[39m: [Errno 2] No such file or directory: '/home/user/documents/report.txt'"
     ]
    }
   ],
   "source": [
    "import os\n",
    "\n",
    "# 路径拼接\n",
    "path = os.path.join('/home/user', 'documents', 'report.txt')\n",
    "print(path)  # /home/user/documents/report.txt\n",
    "\n",
    "# 获取路径各部分\n",
    "print(os.path.basename(path))    # report.txt\n",
    "print(os.path.dirname(path))     # /home/user/documents\n",
    "print(os.path.splitext(path))    # ('/home/user/documents/report', '.txt')\n",
    "\n",
    "# 路径检查\n",
    "print(os.path.exists(path))      # 检查路径是否存在\n",
    "print(os.path.isfile(path))      # 是否是文件\n",
    "print(os.path.isdir(path))       # 是否是目录\n",
    "print(os.path.getsize(path))     # 获取文件大小(字节)\n",
    "print(os.path.getmtime(path))    # 获取最后修改时间(时间戳)\n",
    "\n",
    "# 绝对路径和相对路径\n",
    "print(os.path.abspath('.'))      # 当前目录的绝对路径\n",
    "print(os.path.relpath(path))     # 相对路径"
   ]
  },
  {
   "cell_type": "code",
   "execution_count": 3,
   "id": "b95b90f4",
   "metadata": {},
   "outputs": [
    {
     "name": "stdout",
     "output_type": "stream",
     "text": [
      "文件大小: 13 字节\n",
      "最后访问时间: Thu Jun  5 15:32:38 2025\n",
      "最后修改时间: Thu Jun  5 15:32:38 2025\n",
      "创建时间: Thu Jun  5 15:32:38 2025\n",
      "这是一个普通文件\n",
      "所有者可读: True\n",
      "所有者可写: True\n",
      "所有者可执行: False\n"
     ]
    }
   ],
   "source": [
    "import os\n",
    "import stat\n",
    "import time\n",
    "\n",
    "file_stat = os.stat('example.txt')\n",
    "\n",
    "print(f\"文件大小: {file_stat.st_size} 字节\")\n",
    "print(f\"最后访问时间: {time.ctime(file_stat.st_atime)}\")\n",
    "print(f\"最后修改时间: {time.ctime(file_stat.st_mtime)}\")\n",
    "print(f\"创建时间: {time.ctime(file_stat.st_ctime)}\")  # Windows上\n",
    "\n",
    "# 检查文件模式\n",
    "mode = file_stat.st_mode\n",
    "if stat.S_ISDIR(mode):\n",
    "    print(\"这是一个目录\")\n",
    "elif stat.S_ISREG(mode):\n",
    "    print(\"这是一个普通文件\")\n",
    "\n",
    "# 检查权限\n",
    "print(f\"所有者可读: {bool(mode & stat.S_IRUSR)}\")\n",
    "print(f\"所有者可写: {bool(mode & stat.S_IWUSR)}\")\n",
    "print(f\"所有者可执行: {bool(mode & stat.S_IXUSR)}\")"
   ]
  },
  {
   "cell_type": "code",
   "execution_count": 4,
   "id": "7c9793b7",
   "metadata": {},
   "outputs": [
    {
     "ename": "FileNotFoundError",
     "evalue": "[Errno 2] No such file or directory: 'file1.txt'",
     "output_type": "error",
     "traceback": [
      "\u001b[31m---------------------------------------------------------------------------\u001b[39m",
      "\u001b[31mFileNotFoundError\u001b[39m                         Traceback (most recent call last)",
      "\u001b[36mCell\u001b[39m\u001b[36m \u001b[39m\u001b[32mIn[4]\u001b[39m\u001b[32m, line 4\u001b[39m\n\u001b[32m      1\u001b[39m \u001b[38;5;28;01mimport\u001b[39;00m\u001b[38;5;250m \u001b[39m\u001b[34;01mfilecmp\u001b[39;00m\n\u001b[32m      3\u001b[39m \u001b[38;5;66;03m# 比较文件\u001b[39;00m\n\u001b[32m----> \u001b[39m\u001b[32m4\u001b[39m \u001b[38;5;28mprint\u001b[39m(\u001b[43mfilecmp\u001b[49m\u001b[43m.\u001b[49m\u001b[43mcmp\u001b[49m\u001b[43m(\u001b[49m\u001b[33;43m'\u001b[39;49m\u001b[33;43mfile1.txt\u001b[39;49m\u001b[33;43m'\u001b[39;49m\u001b[43m,\u001b[49m\u001b[43m \u001b[49m\u001b[33;43m'\u001b[39;49m\u001b[33;43mfile2.txt\u001b[39;49m\u001b[33;43m'\u001b[39;49m\u001b[43m)\u001b[49m)  \u001b[38;5;66;03m# 比较内容是否相同\u001b[39;00m\n\u001b[32m      6\u001b[39m \u001b[38;5;66;03m# 比较目录\u001b[39;00m\n\u001b[32m      7\u001b[39m dcmp = filecmp.dircmp(\u001b[33m'\u001b[39m\u001b[33mdir1\u001b[39m\u001b[33m'\u001b[39m, \u001b[33m'\u001b[39m\u001b[33mdir2\u001b[39m\u001b[33m'\u001b[39m)\n",
      "\u001b[36mFile \u001b[39m\u001b[32m~/miniconda3/envs/py12/lib/python3.12/filecmp.py:53\u001b[39m, in \u001b[36mcmp\u001b[39m\u001b[34m(f1, f2, shallow)\u001b[39m\n\u001b[32m     30\u001b[39m \u001b[38;5;28;01mdef\u001b[39;00m\u001b[38;5;250m \u001b[39m\u001b[34mcmp\u001b[39m(f1, f2, shallow=\u001b[38;5;28;01mTrue\u001b[39;00m):\n\u001b[32m     31\u001b[39m \u001b[38;5;250m    \u001b[39m\u001b[33;03m\"\"\"Compare two files.\u001b[39;00m\n\u001b[32m     32\u001b[39m \n\u001b[32m     33\u001b[39m \u001b[33;03m    Arguments:\u001b[39;00m\n\u001b[32m   (...)\u001b[39m\u001b[32m     50\u001b[39m \n\u001b[32m     51\u001b[39m \u001b[33;03m    \"\"\"\u001b[39;00m\n\u001b[32m---> \u001b[39m\u001b[32m53\u001b[39m     s1 = _sig(\u001b[43mos\u001b[49m\u001b[43m.\u001b[49m\u001b[43mstat\u001b[49m\u001b[43m(\u001b[49m\u001b[43mf1\u001b[49m\u001b[43m)\u001b[49m)\n\u001b[32m     54\u001b[39m     s2 = _sig(os.stat(f2))\n\u001b[32m     55\u001b[39m     \u001b[38;5;28;01mif\u001b[39;00m s1[\u001b[32m0\u001b[39m] != stat.S_IFREG \u001b[38;5;129;01mor\u001b[39;00m s2[\u001b[32m0\u001b[39m] != stat.S_IFREG:\n",
      "\u001b[31mFileNotFoundError\u001b[39m: [Errno 2] No such file or directory: 'file1.txt'"
     ]
    }
   ],
   "source": [
    "import filecmp\n",
    "\n",
    "# 比较文件\n",
    "print(filecmp.cmp('file1.txt', 'file2.txt'))  # 比较内容是否相同\n",
    "\n",
    "# 比较目录\n",
    "dcmp = filecmp.dircmp('dir1', 'dir2')\n",
    "print(\"相同文件:\", dcmp.same_files)  # 两个目录中都存在的相同文件\n",
    "print(\"仅在dir1中的文件:\", dcmp.left_only)\n",
    "print(\"仅在dir2中的文件:\", dcmp.right_only)\n",
    "print(\"不同文件:\", dcmp.diff_files)  # 同名但内容不同的文件\n",
    "\n",
    "# 可以递归比较子目录\n",
    "dcmp.report_full_closure()"
   ]
  }
 ],
 "metadata": {
  "kernelspec": {
   "display_name": "py12",
   "language": "python",
   "name": "python3"
  },
  "language_info": {
   "codemirror_mode": {
    "name": "ipython",
    "version": 3
   },
   "file_extension": ".py",
   "mimetype": "text/x-python",
   "name": "python",
   "nbconvert_exporter": "python",
   "pygments_lexer": "ipython3",
   "version": "3.12.9"
  }
 },
 "nbformat": 4,
 "nbformat_minor": 5
}
