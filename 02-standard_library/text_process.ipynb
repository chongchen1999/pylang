{
 "cells": [
  {
   "cell_type": "code",
   "execution_count": 1,
   "id": "04e537e2",
   "metadata": {},
   "outputs": [
    {
     "name": "stdout",
     "output_type": "stream",
     "text": [
      "abcdefghijklmnopqrstuvwxyzABCDEFGHIJKLMNOPQRSTUVWXYZ\n",
      "0123456789\n",
      "!\"#$%&'()*+,-./:;<=>?@[\\]^_`{|}~\n",
      "Alice was born in 1990\n",
      "Hello, World!\n",
      "Hello, World!\n"
     ]
    }
   ],
   "source": [
    "import string\n",
    "\n",
    "# 字符串常量\n",
    "print(string.ascii_letters)  # abcdefghijklmnopqrstuvwxyzABCDEFGHIJKLMNOPQRSTUVWXYZ\n",
    "print(string.digits)         # 0123456789\n",
    "print(string.punctuation)    # !\"#$%&'()*+,-./:;<=>?@[\\]^_`{|}~\n",
    "\n",
    "# 字符串模板\n",
    "template = string.Template('$name was born in $year')\n",
    "print(template.substitute(name='Alice', year=1990))  # Alice was born in 1990\n",
    "\n",
    "# 字符串格式化\n",
    "print('Hello, {}!'.format('World'))  # 传统方式\n",
    "print(f'Hello, {\"World\"}!')         # f-string (Python 3.6+)"
   ]
  },
  {
   "cell_type": "code",
   "execution_count": 2,
   "id": "d2e0f63e",
   "metadata": {},
   "outputs": [
    {
     "name": "stdout",
     "output_type": "stream",
     "text": [
      "['123', '456']\n",
      "There are X apples and X oranges.\n",
      "True\n",
      "False\n",
      "Year: 2023, Month: 08, Day: 15\n"
     ]
    }
   ],
   "source": [
    "import re\n",
    "\n",
    "# 匹配数字\n",
    "text = \"There are 123 apples and 456 oranges.\"\n",
    "numbers = re.findall(r'\\d+', text)\n",
    "print(numbers)  # ['123', '456']\n",
    "\n",
    "# 替换文本\n",
    "new_text = re.sub(r'\\d+', 'X', text)\n",
    "print(new_text)  # There are X apples and X oranges.\n",
    "\n",
    "# 验证电子邮件格式\n",
    "def is_valid_email(email):\n",
    "    pattern = r'^[a-zA-Z0-9._%+-]+@[a-zA-Z0-9.-]+\\.[a-zA-Z]{2,}$'\n",
    "    return bool(re.match(pattern, email))\n",
    "\n",
    "print(is_valid_email('test@example.com'))  # True\n",
    "print(is_valid_email('invalid.email'))     # False\n",
    "\n",
    "# 分组提取\n",
    "text = \"Date: 2023-08-15\"\n",
    "match = re.match(r'Date: (\\d{4})-(\\d{2})-(\\d{2})', text)\n",
    "if match:\n",
    "    year, month, day = match.groups()\n",
    "    print(f\"Year: {year}, Month: {month}, Day: {day}\")"
   ]
  },
  {
   "cell_type": "code",
   "execution_count": 3,
   "id": "a3cf1452",
   "metadata": {},
   "outputs": [
    {
     "name": "stdout",
     "output_type": "stream",
     "text": [
      "- Hello world\n",
      "- Python is great\n",
      "+ Hello there\n",
      "+ Python is awesome\n",
      "  Goodbye\n",
      "--- \n",
      "+++ \n",
      "@@ -1,3 +1,3 @@\n",
      "-Hello world\n",
      "-Python is great\n",
      "+Hello there\n",
      "+Python is awesome\n",
      " Goodbye\n",
      "['apple', 'app', 'ape']\n"
     ]
    }
   ],
   "source": [
    "from difflib import Differ, unified_diff, get_close_matches\n",
    "\n",
    "# 比较文本差异\n",
    "text1 = \"Hello world\\nPython is great\\nGoodbye\"\n",
    "text2 = \"Hello there\\nPython is awesome\\nGoodbye\"\n",
    "\n",
    "# 使用 Differ\n",
    "d = Differ()\n",
    "diff = list(d.compare(text1.splitlines(), text2.splitlines()))\n",
    "print('\\n'.join(diff))\n",
    "\"\"\"\n",
    "  Hello world\n",
    "- Hello there\n",
    "?        ^^^\n",
    "+ Python is great\n",
    "- Python is awesome\n",
    "?              ^^^\n",
    "  Goodbye\n",
    "\"\"\"\n",
    "\n",
    "# 使用 unified_diff\n",
    "diff = unified_diff(text1.splitlines(), text2.splitlines(), lineterm='')\n",
    "print('\\n'.join(diff))\n",
    "\"\"\"\n",
    "--- \n",
    "+++ \n",
    "@@ -1,3 +1,3 @@\n",
    "-Hello world\n",
    "-Python is great\n",
    "+Hello there\n",
    "+Python is awesome\n",
    " Goodbye\n",
    "\"\"\"\n",
    "\n",
    "# 查找相似字符串\n",
    "words = ['apple', 'ape', 'app', 'peach', 'puppy']\n",
    "print(get_close_matches('appel', words))  # ['apple', 'ape', 'app']"
   ]
  },
  {
   "cell_type": "code",
   "execution_count": 1,
   "id": "b7d0dc48",
   "metadata": {},
   "outputs": [
    {
     "name": "stdout",
     "output_type": "stream",
     "text": [
      "LATIN SMALL LETTER SHARP S\n",
      "ß\n",
      "False\n",
      "True\n",
      "A: Lu\n",
      "1: Nd\n",
      "!: Po\n",
      "あ: Lo\n"
     ]
    },
    {
     "data": {
      "text/plain": [
       "'\\nA: Lu  # Letter, uppercase\\n1: Nd  # Number, decimal digit\\n!: Po  # Punctuation, other\\nあ: Lo  # Letter, other\\n'"
      ]
     },
     "execution_count": 1,
     "metadata": {},
     "output_type": "execute_result"
    }
   ],
   "source": [
    "import unicodedata\n",
    "\n",
    "# 字符名称\n",
    "char = 'ß'\n",
    "print(unicodedata.name(char))  # LATIN SMALL LETTER SHARP S\n",
    "\n",
    "# 查找字符\n",
    "print(unicodedata.lookup('LATIN SMALL LETTER SHARP S'))  # ß\n",
    "\n",
    "# 规范化文本\n",
    "s1 = 'café'\n",
    "s2 = 'cafe\\u0301'  # 使用组合字符\n",
    "print(s1 == s2)  # False\n",
    "print(unicodedata.normalize('NFC', s1) == unicodedata.normalize('NFC', s2))  # True\n",
    "\n",
    "# 分类字符\n",
    "for char in 'A1!あ':\n",
    "    print(f\"{char}: {unicodedata.category(char)}\")\n",
    "\"\"\"\n",
    "A: Lu  # Letter, uppercase\n",
    "1: Nd  # Number, decimal digit\n",
    "!: Po  # Punctuation, other\n",
    "あ: Lo  # Letter, other\n",
    "\"\"\""
   ]
  }
 ],
 "metadata": {
  "kernelspec": {
   "display_name": "py12",
   "language": "python",
   "name": "python3"
  },
  "language_info": {
   "codemirror_mode": {
    "name": "ipython",
    "version": 3
   },
   "file_extension": ".py",
   "mimetype": "text/x-python",
   "name": "python",
   "nbconvert_exporter": "python",
   "pygments_lexer": "ipython3",
   "version": "3.12.9"
  }
 },
 "nbformat": 4,
 "nbformat_minor": 5
}
