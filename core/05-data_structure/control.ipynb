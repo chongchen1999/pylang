{
 "cells": [
  {
   "cell_type": "code",
   "execution_count": 2,
   "id": "f71bcd35",
   "metadata": {},
   "outputs": [
    {
     "name": "stdout",
     "output_type": "stream",
     "text": [
      "True\n",
      "True\n",
      "True\n",
      "True\n",
      "125552566329024\n",
      "125552566329024\n",
      "125552566522304\n"
     ]
    }
   ],
   "source": [
    "# 成员检测运算符 in 和 not in\n",
    "fruits = ['apple', 'banana', 'orange']\n",
    "print('apple' in fruits)     # True\n",
    "print('pear' not in fruits)  # True\n",
    "\n",
    "# 对象标识比较 is 和 is not\n",
    "a = [1, 2, 3]\n",
    "b = a\n",
    "c = [1, 2, 3]\n",
    "print(a is b)      # True, 同一个对象\n",
    "print(a is not c)  # True, 不同对象即使内容相同\n",
    "print(id(a))\n",
    "print(id(b))\n",
    "print(id(c))"
   ]
  },
  {
   "cell_type": "code",
   "execution_count": 3,
   "id": "eebc015d",
   "metadata": {},
   "outputs": [
    {
     "name": "stdout",
     "output_type": "stream",
     "text": [
      "True\n",
      "True\n",
      "True\n",
      "False\n",
      "True\n",
      "True\n",
      "False\n",
      "True\n",
      "Trondheim\n"
     ]
    }
   ],
   "source": [
    "# 比较链式操作\n",
    "x = 5\n",
    "print(1 < x < 10)        # True\n",
    "print(5 == x > 4)        # True\n",
    "\n",
    "# 布尔运算符组合\n",
    "age = 25\n",
    "income = 40000\n",
    "print(age > 18 and income > 30000)  # True\n",
    "print(age < 18 or income > 50000)   # False\n",
    "print(not age > 30)                 # True\n",
    "\n",
    "# 运算符优先级示例\n",
    "print(True and not False or False)  # 等价于 (True and (not False)) or False → True\n",
    "\n",
    "# 短路运算符特性\n",
    "def test():\n",
    "    print(\"函数被调用\")\n",
    "    return True\n",
    "\n",
    "print(False and test())  # test()不会被调用\n",
    "print(True or test())    # test()不会被调用\n",
    "\n",
    "# 赋值给变量\n",
    "string1, string2, string3 = '', 'Trondheim', 'Hammer Dance'\n",
    "non_null = string1 or string2 or string3\n",
    "print(non_null)  # 'Trondheim'"
   ]
  },
  {
   "cell_type": "code",
   "execution_count": 4,
   "id": "4703a200",
   "metadata": {},
   "outputs": [
    {
     "name": "stdout",
     "output_type": "stream",
     "text": [
      "True\n",
      "True\n",
      "True\n",
      "True\n",
      "True\n",
      "True\n",
      "True\n",
      "True\n",
      "True\n",
      "True\n",
      "True\n",
      "False\n",
      "错误: '<' not supported between instances of 'tuple' and 'list'\n"
     ]
    }
   ],
   "source": [
    "# 元组比较\n",
    "print((1, 2, 3) < (1, 2, 4))          # True\n",
    "print((1, 2, 3, 4) < (1, 2, 4))       # True (前两个相等，第三个3<4)\n",
    "print((1, 2) < (1, 2, -1))            # True (较短序列被视为较小)\n",
    "print((1, 2, 3) == (1.0, 2.0, 3.0))   # True (数值相等)\n",
    "print((1, 2, ('aa', 'ab')) < (1, 2, ('abc', 'a'), 4))  # True ('aa' < 'abc')\n",
    "\n",
    "# 列表比较\n",
    "print([1, 2, 3] < [1, 2, 4])  # True\n",
    "\n",
    "# 字符串比较(基于Unicode码位)\n",
    "print('ABC' < 'C')            # True\n",
    "print('C' < 'Pascal')         # True\n",
    "print('Pascal' < 'Python')    # True\n",
    "print('apple' < 'banana')     # True ('a' < 'b')\n",
    "\n",
    "# 不同类型比较\n",
    "print(0 == 0.0)  # True (数值相等)\n",
    "print(5 == '5')  # False\n",
    "\n",
    "# 尝试比较不兼容类型会引发TypeError\n",
    "try:\n",
    "    print((1, 2, 3) < [1, 2, 3])  # 元组和列表不能直接比较\n",
    "except TypeError as e:\n",
    "    print(f\"错误: {e}\")"
   ]
  }
 ],
 "metadata": {
  "kernelspec": {
   "display_name": "py12",
   "language": "python",
   "name": "python3"
  },
  "language_info": {
   "codemirror_mode": {
    "name": "ipython",
    "version": 3
   },
   "file_extension": ".py",
   "mimetype": "text/x-python",
   "name": "python",
   "nbconvert_exporter": "python",
   "pygments_lexer": "ipython3",
   "version": "3.12.9"
  }
 },
 "nbformat": 4,
 "nbformat_minor": 5
}
