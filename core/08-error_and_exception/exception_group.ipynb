{
 "cells": [
  {
   "cell_type": "code",
   "execution_count": 1,
   "id": "5cfbb167",
   "metadata": {},
   "outputs": [
    {
     "name": "stdout",
     "output_type": "stream",
     "text": [
      "捕获到异常组，包含 2 个子异常\n",
      "异常 1: OSError: 文件操作失败\n",
      "异常 2: ValueError: 无效的输入值\n"
     ]
    }
   ],
   "source": [
    "def demo_basic_exception_group():\n",
    "    # 创建两个不同类型的异常\n",
    "    excs = [OSError('文件操作失败'), ValueError('无效的输入值')]\n",
    "    \n",
    "    # 抛出异常组\n",
    "    raise ExceptionGroup('发生了多个错误', excs)\n",
    "\n",
    "try:\n",
    "    demo_basic_exception_group()\n",
    "except ExceptionGroup as eg:\n",
    "    print(f\"捕获到异常组，包含 {len(eg.exceptions)} 个子异常\")\n",
    "    for i, exc in enumerate(eg.exceptions, 1):\n",
    "        print(f\"异常 {i}: {type(exc).__name__}: {exc}\")"
   ]
  },
  {
   "cell_type": "code",
   "execution_count": 2,
   "id": "30d04696",
   "metadata": {},
   "outputs": [
    {
     "name": "stdout",
     "output_type": "stream",
     "text": [
      "捕获到异常组，包含 2 个异常:\n",
      "1. ValueError: invalid literal for int() with base 10: 'abc'\n",
      "2. ZeroDivisionError: division by zero\n"
     ]
    }
   ],
   "source": [
    "def process_data():\n",
    "    errors = []\n",
    "    \n",
    "    # 模拟多个操作可能失败\n",
    "    try:\n",
    "        int('abc')  # 这会引发 ValueError\n",
    "    except ValueError as e:\n",
    "        errors.append(e)\n",
    "    \n",
    "    try:\n",
    "        1/0  # 这会引发 ZeroDivisionError\n",
    "    except ZeroDivisionError as e:\n",
    "        errors.append(e)\n",
    "    \n",
    "    if errors:\n",
    "        raise ExceptionGroup(\"处理数据时发生多个错误\", errors)\n",
    "\n",
    "try:\n",
    "    process_data()\n",
    "except ExceptionGroup as eg:\n",
    "    print(f\"捕获到异常组，包含 {len(eg.exceptions)} 个异常:\")\n",
    "    for i, exc in enumerate(eg.exceptions, 1):\n",
    "        print(f\"{i}. {type(exc).__name__}: {exc}\")"
   ]
  },
  {
   "cell_type": "code",
   "execution_count": 3,
   "id": "b06ec382",
   "metadata": {},
   "outputs": [
    {
     "name": "stdout",
     "output_type": "stream",
     "text": [
      "处理值错误: 输入验证失败 (1 sub-exception)\n",
      "处理权限错误: 输入验证失败 (1 sub-exception)\n"
     ]
    }
   ],
   "source": [
    "def validate_inputs():\n",
    "    errors = []\n",
    "    \n",
    "    # 模拟多个验证失败\n",
    "    try:\n",
    "        if len('short') < 10:\n",
    "            raise ValueError(\"用户名太短\")\n",
    "    except ValueError as e:\n",
    "        errors.append(e)\n",
    "    \n",
    "    try:\n",
    "        if 'password' != 'password123':\n",
    "            raise PermissionError(\"密码错误\")\n",
    "    except PermissionError as e:\n",
    "        errors.append(e)\n",
    "    \n",
    "    if errors:\n",
    "        raise ExceptionGroup(\"输入验证失败\", errors)\n",
    "\n",
    "try:\n",
    "    validate_inputs()\n",
    "except* ValueError as ve:\n",
    "    print(\"处理值错误:\", ve)\n",
    "except* PermissionError as pe:\n",
    "    print(\"处理权限错误:\", pe)"
   ]
  }
 ],
 "metadata": {
  "kernelspec": {
   "display_name": "py12",
   "language": "python",
   "name": "python3"
  },
  "language_info": {
   "codemirror_mode": {
    "name": "ipython",
    "version": 3
   },
   "file_extension": ".py",
   "mimetype": "text/x-python",
   "name": "python",
   "nbconvert_exporter": "python",
   "pygments_lexer": "ipython3",
   "version": "3.12.9"
  }
 },
 "nbformat": 4,
 "nbformat_minor": 5
}
