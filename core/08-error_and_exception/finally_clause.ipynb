{
 "cells": [
  {
   "cell_type": "code",
   "execution_count": 2,
   "id": "c554f364",
   "metadata": {},
   "outputs": [
    {
     "name": "stdout",
     "output_type": "stream",
     "text": [
      "文件不存在！\n",
      "关闭文件...\n"
     ]
    },
    {
     "ename": "UnboundLocalError",
     "evalue": "cannot access local variable 'file' where it is not associated with a value",
     "output_type": "error",
     "traceback": [
      "\u001b[31m---------------------------------------------------------------------------\u001b[39m",
      "\u001b[31mUnboundLocalError\u001b[39m                         Traceback (most recent call last)",
      "\u001b[36mCell\u001b[39m\u001b[36m \u001b[39m\u001b[32mIn[2]\u001b[39m\u001b[32m, line 12\u001b[39m\n\u001b[32m      9\u001b[39m         \u001b[38;5;28mprint\u001b[39m(\u001b[33m\"\u001b[39m\u001b[33m关闭文件...\u001b[39m\u001b[33m\"\u001b[39m)\n\u001b[32m     10\u001b[39m         file.close()  \u001b[38;5;66;03m# 无论如何都会执行\u001b[39;00m\n\u001b[32m---> \u001b[39m\u001b[32m12\u001b[39m \u001b[43mread_file\u001b[49m\u001b[43m(\u001b[49m\u001b[33;43m\"\u001b[39;49m\u001b[33;43mexample.txt\u001b[39;49m\u001b[33;43m\"\u001b[39;49m\u001b[43m)\u001b[49m  \u001b[38;5;66;03m# 如果文件不存在，仍然会执行 finally\u001b[39;00m\n",
      "\u001b[36mCell\u001b[39m\u001b[36m \u001b[39m\u001b[32mIn[2]\u001b[39m\u001b[32m, line 10\u001b[39m, in \u001b[36mread_file\u001b[39m\u001b[34m(filename)\u001b[39m\n\u001b[32m      8\u001b[39m \u001b[38;5;28;01mfinally\u001b[39;00m:\n\u001b[32m      9\u001b[39m     \u001b[38;5;28mprint\u001b[39m(\u001b[33m\"\u001b[39m\u001b[33m关闭文件...\u001b[39m\u001b[33m\"\u001b[39m)\n\u001b[32m---> \u001b[39m\u001b[32m10\u001b[39m     \u001b[43mfile\u001b[49m.close()\n",
      "\u001b[31mUnboundLocalError\u001b[39m: cannot access local variable 'file' where it is not associated with a value"
     ]
    }
   ],
   "source": [
    "def read_file(filename):\n",
    "    try:\n",
    "        file = open(filename, \"r\")\n",
    "        data = file.read()\n",
    "        print(data)\n",
    "    except FileNotFoundError:\n",
    "        print(\"文件不存在！\")\n",
    "    finally:\n",
    "        print(\"关闭文件...\")\n",
    "        file.close()  # 无论如何都会执行\n",
    "\n",
    "read_file(\"example.txt\")  # 如果文件不存在，仍然会执行 finally"
   ]
  },
  {
   "cell_type": "code",
   "execution_count": 3,
   "id": "6ba37123",
   "metadata": {},
   "outputs": [
    {
     "name": "stdout",
     "output_type": "stream",
     "text": [
      "finally 执行\n",
      "finally 返回值\n"
     ]
    }
   ],
   "source": [
    "def test_finally_return():\n",
    "    try:\n",
    "        return \"try 返回值\"  # 先暂存返回值\n",
    "    finally:\n",
    "        print(\"finally 执行\")  # 先执行 finally\n",
    "        return \"finally 返回值\"  # 覆盖 try 的返回值\n",
    "\n",
    "print(test_finally_return())"
   ]
  },
  {
   "cell_type": "code",
   "execution_count": 4,
   "id": "e76c1c57",
   "metadata": {},
   "outputs": [
    {
     "name": "stdout",
     "output_type": "stream",
     "text": [
      "捕获到的异常：finally 中的新错误\n"
     ]
    }
   ],
   "source": [
    "def risky_operation():\n",
    "    try:\n",
    "        raise ValueError(\"原始错误\")\n",
    "    finally:\n",
    "        raise TypeError(\"finally 中的新错误\")  # 覆盖原始错误\n",
    "\n",
    "try:\n",
    "    risky_operation()\n",
    "except Exception as e:\n",
    "    print(f\"捕获到的异常：{e}\")"
   ]
  },
  {
   "cell_type": "code",
   "execution_count": 5,
   "id": "ce309683",
   "metadata": {},
   "outputs": [
    {
     "name": "stdout",
     "output_type": "stream",
     "text": [
      "转账成功，剩余余额：500\n",
      "交易记录已保存\n",
      "转账失败：余额不足！\n",
      "交易记录已保存\n"
     ]
    }
   ],
   "source": [
    "class InsufficientFundsError(Exception):\n",
    "    \"\"\"余额不足异常\"\"\"\n",
    "    pass\n",
    "\n",
    "class Account:\n",
    "    def __init__(self, balance):\n",
    "        self.balance = balance\n",
    "\n",
    "    def transfer(self, amount):\n",
    "        try:\n",
    "            if amount > self.balance:\n",
    "                raise InsufficientFundsError(\"余额不足！\")\n",
    "            self.balance -= amount\n",
    "            print(f\"转账成功，剩余余额：{self.balance}\")\n",
    "        except InsufficientFundsError as e:\n",
    "            print(f\"转账失败：{e}\")\n",
    "        finally:\n",
    "            print(\"交易记录已保存\")  # 模拟必须执行的日志记录\n",
    "\n",
    "account = Account(1000)\n",
    "account.transfer(500)   # 成功\n",
    "account.transfer(1000)  # 失败"
   ]
  }
 ],
 "metadata": {
  "kernelspec": {
   "display_name": "py12",
   "language": "python",
   "name": "python3"
  },
  "language_info": {
   "codemirror_mode": {
    "name": "ipython",
    "version": 3
   },
   "file_extension": ".py",
   "mimetype": "text/x-python",
   "name": "python",
   "nbconvert_exporter": "python",
   "pygments_lexer": "ipython3",
   "version": "3.12.9"
  }
 },
 "nbformat": 4,
 "nbformat_minor": 5
}
